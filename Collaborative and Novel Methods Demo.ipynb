{
 "cells": [
  {
   "cell_type": "markdown",
   "metadata": {
    "colab_type": "text",
    "id": "-TuxTUTmQP75"
   },
   "source": [
    "<h1><center>Recommendation Systems for a Movie Website</center></h1>"
   ]
  },
  {
   "cell_type": "markdown",
   "metadata": {
    "colab_type": "text",
    "id": "o-F9HZvyQP76"
   },
   "source": [
    "<h3>We see the use of recommendation systems all around us. These systems are personalizing our web experience, telling us</h3>\n",
    "\n",
    "* **What to buy (Amazon)**\n",
    "* **Which movies to watch (Netflix)**\n",
    "* **Whom to be friends with (Facebook)**\n",
    "* **Which songs to listen (Spotify)**\n",
    "\n",
    "**These recommendation systems leverage our shopping/ watching/ listening patterns and predict what we could like in future based on our behavior patterns.**"
   ]
  },
  {
   "cell_type": "markdown",
   "metadata": {
    "colab_type": "text",
    "id": "D0xAbShMQP77"
   },
   "source": [
    "<h1>Lets come back to our problem</h1>"
   ]
  },
  {
   "cell_type": "markdown",
   "metadata": {
    "colab_type": "text",
    "id": "DmRZ8FfoQP78"
   },
   "source": [
    "# What is the problem?"
   ]
  },
  {
   "cell_type": "markdown",
   "metadata": {
    "colab_type": "text",
    "id": "QS0OI3R9QP79"
   },
   "source": [
    "* **Joe** is a regular visitor of **\"xyxmovies.com\"**\n",
    "* He has seen many movies\n",
    "* Now he spends a lot time in searching\n",
    "* **He starts loosing his interest**\n",
    "* He is thinking to shift to another website"
   ]
  },
  {
   "cell_type": "markdown",
   "metadata": {
    "colab_type": "text",
    "id": "z5G-kMZsQP7_"
   },
   "source": [
    "<img src = \"files/Problem.png\" >"
   ]
  },
  {
   "cell_type": "markdown",
   "metadata": {
    "colab_type": "text",
    "id": "eDyNmAxLQP8A"
   },
   "source": [
    "\n",
    "## What Recommender Systems do?"
   ]
  },
  {
   "cell_type": "markdown",
   "metadata": {
    "colab_type": "text",
    "id": "nFvFDF6eQP8B"
   },
   "source": [
    "What RS do?\n",
    "* Recommender Systems takes **user interest** into account\n",
    "* recommend similar movies which that user has not seen\n",
    "\n",
    "What RS will do in our case?\n",
    "* Recommender systems of xyzmovies.com will understand what type of movies joe like\n",
    "* Based on those interests it will recommend him new movies similar to those he likes\n",
    "\n",
    "### Joe is happy now :)"
   ]
  },
  {
   "cell_type": "markdown",
   "metadata": {
    "colab_type": "text",
    "id": "Vp87-7fTQP8C"
   },
   "source": [
    "<img src = \"files/Solution.png\" >"
   ]
  },
  {
   "cell_type": "markdown",
   "metadata": {
    "colab_type": "text",
    "id": "6-e50q2XQP8D"
   },
   "source": [
    "<font color = \"blue\"><h2><center>Great! Now you know what recommender systems do.</center></h2></font>\n"
   ]
  },
  {
   "cell_type": "markdown",
   "metadata": {
    "colab_type": "text",
    "id": "Q9Wy30jDQP8E"
   },
   "source": [
    "<font color = \"black\"><h2>What we are going to see?</h2></font>\n",
    "\n",
    "1. <h3> What are the Types of Recommender Systems?</h3>\n",
    "2. <h3> Exploring Data for this particular Problem</h3>\n",
    "3. <h3> Implementing Different Recommender Systems from Scratch</h3>  "
   ]
  },
  {
   "cell_type": "markdown",
   "metadata": {
    "colab_type": "text",
    "id": "-6nh8l-FQP8F"
   },
   "source": [
    "<font color = \"blue\"><h3>Types of recommender systems</h2></font>\n",
    "1. <h4> Collaborative Recommender System</h4>\n",
    "2. <h4> Content based Recommender System</h4>\n",
    "3. <h4> Hybrid Recommender System</h4>"
   ]
  },
  {
   "cell_type": "markdown",
   "metadata": {
    "colab_type": "text",
    "id": "7BNcUejnQP8G"
   },
   "source": [
    "# 1- Collaborative Recommender Systems\n",
    "It’s the most sort after, most widely implemented and most mature technologies that is available in the market. Collaborative recommender systems aggregate ratings or recommendations of objects, recognize commonalities between the users on the basis of their ratings, and generate new recommendations based on inter-user comparisons. The greatest strength of collaborative techniques is that they are completely independent of any machine-readable representation of the objects being recommended and work well for complex objects where variations in taste are responsible for much of the variation in preferences. Collaborative filtering is based on the assumption that people who agreed in the past will agree in the future and that they will like similar kind of objects as they liked in the past.\n",
    "\n",
    "<h2> Types of Collaborative Recommender Systems\n",
    "1. Memory Based\n",
    "2. Model Based"
   ]
  },
  {
   "cell_type": "markdown",
   "metadata": {
    "colab_type": "text",
    "id": "H1q5ou_iQP8H"
   },
   "source": [
    "<font color = \"green\"><h1>Lets first explore the User Based Collaborative approach of Memory Based Recommender Systems</h1></font>\n",
    "<h3>Memory-Based Collaborative Filtering:</h3>\n",
    "\n",
    "Memory-Based Collaborative Filtering approaches can be divided into two main sections: user-item filtering and item-item filtering. A user-item filtering takes a particular user, find users that are similar to that user based on similarity of ratings, and recommend items that those similar users liked. In contrast, item-item filtering will take an item, find users who liked that item, and find other items that those users or similar users also liked. It takes items and outputs other items as recommendations.\n",
    "</h3>\n",
    "* Item-Item Collaborative Filtering: \"Users who liked this item also liked …\"\n",
    "* User-Item Collaborative Filtering: \"Users who are similar to you also liked …\"\n",
    "</h3>\n",
    "\n",
    "### Memory Based Collaborative Recommender mainly has two types\n",
    "\n",
    "1. <h3>User Based Collaborative Filtering</h3>\n",
    "2. <h3>Item Based Collaborative Filtering</h3>"
   ]
  },
  {
   "cell_type": "markdown",
   "metadata": {
    "colab_type": "text",
    "id": "7B6ywNoOQP8I"
   },
   "source": [
    "<h2>User Based Collaborative Filtering</h2>"
   ]
  },
  {
   "cell_type": "markdown",
   "metadata": {
    "colab_type": "text",
    "id": "TI9lgxJZQP8J"
   },
   "source": [
    "User Based Collaborative Filtering is a 4 step process\n",
    "1. You find out the similar users for a user you want to recommend items\n",
    "2. Generate candidates (Items which similar users has rated)\n",
    "3. Rank those items\n",
    "4. Recommend Top N Items"
   ]
  },
  {
   "cell_type": "markdown",
   "metadata": {
    "colab_type": "text",
    "id": "OeLyfG00QP8K"
   },
   "source": [
    "<img src = \"files/UBCF.png\" >"
   ]
  },
  {
   "cell_type": "markdown",
   "metadata": {
    "colab_type": "text",
    "id": "5xXy1m8hQP8L"
   },
   "source": [
    "<font color = \"blue\"><h2><center>Great! Now you know what are User Based Collaborative Recommendations.</center></h2></font>"
   ]
  },
  {
   "cell_type": "markdown",
   "metadata": {
    "colab_type": "text",
    "id": "UqKNT0GCQP8M"
   },
   "source": [
    "## Lets do it from Scratch"
   ]
  },
  {
   "cell_type": "code",
   "execution_count": 0,
   "metadata": {
    "colab": {},
    "colab_type": "code",
    "id": "BbMEGHKUQP8O"
   },
   "outputs": [],
   "source": [
    "from surprise import Dataset\n",
    "from surprise import Reader\n",
    "from collections import defaultdict\n",
    "import pandas as pd\n",
    "import numpy as np\n",
    "import re\n",
    "from surprise import KNNBasic\n",
    "import heapq\n",
    "from operator import itemgetter"
   ]
  },
  {
   "cell_type": "markdown",
   "metadata": {
    "colab_type": "text",
    "id": "6h9FZMqkQP8S"
   },
   "source": [
    "# Data Analysis"
   ]
  },
  {
   "cell_type": "markdown",
   "metadata": {
    "colab_type": "text",
    "id": "qBap_SQWQP8T"
   },
   "source": [
    "Before we move forward, we should have a detailed look at our Input Data, as we are trying to build recommender systems for a movie website, we should fully understand what data we are going to use. for this workshop we will be using **Movielens Data-set**, which contain data of\n",
    "\n",
    "1. 9125 Movies\n",
    "2. 671 Users\n",
    "3. 100004 ratings"
   ]
  },
  {
   "cell_type": "markdown",
   "metadata": {
    "colab_type": "text",
    "id": "60iQJ7nkQP8U"
   },
   "source": [
    "## Lets see our input data"
   ]
  },
  {
   "cell_type": "markdown",
   "metadata": {
    "colab_type": "text",
    "id": "mwEteD_ZQP8V"
   },
   "source": [
    "### Defining Our Input Files Path\n",
    "To explore this data, we need to first load it into our notebook. For this we have to define input paths of where these files are located in our computer. As we have save those file into our local folder so we just have to give names of these files"
   ]
  },
  {
   "cell_type": "code",
   "execution_count": 0,
   "metadata": {
    "colab": {},
    "colab_type": "code",
    "id": "BKR3MtE2QP8W"
   },
   "outputs": [],
   "source": [
    "Movies_Path = r\"Data/movies.csv\" #path to load movies file\n",
    "Ratings_Path = r\"Data/ratings.csv\" #path to load ratings file"
   ]
  },
  {
   "cell_type": "markdown",
   "metadata": {
    "colab_type": "text",
    "id": "ls8Z0oiHQP8a"
   },
   "source": [
    "## Lets explore first input file, \"movies.csv\" \n",
    "lets load up this file into a pandas data-frame, and see what this movies.csv file contain\n",
    "lets print out the first 10 rows of this file"
   ]
  },
  {
   "cell_type": "code",
   "execution_count": 0,
   "metadata": {
    "colab": {},
    "colab_type": "code",
    "id": "uV29xzGtQP8b",
    "outputId": "317d8b36-853d-487e-b610-7eb9e60c9cc3"
   },
   "outputs": [
    {
     "data": {
      "text/html": [
       "<div>\n",
       "<style scoped>\n",
       "    .dataframe tbody tr th:only-of-type {\n",
       "        vertical-align: middle;\n",
       "    }\n",
       "\n",
       "    .dataframe tbody tr th {\n",
       "        vertical-align: top;\n",
       "    }\n",
       "\n",
       "    .dataframe thead th {\n",
       "        text-align: right;\n",
       "    }\n",
       "</style>\n",
       "<table border=\"1\" class=\"dataframe\">\n",
       "  <thead>\n",
       "    <tr style=\"text-align: right;\">\n",
       "      <th></th>\n",
       "      <th>movieId</th>\n",
       "      <th>title</th>\n",
       "      <th>genres</th>\n",
       "    </tr>\n",
       "  </thead>\n",
       "  <tbody>\n",
       "    <tr>\n",
       "      <th>0</th>\n",
       "      <td>1</td>\n",
       "      <td>Toy Story (1995)</td>\n",
       "      <td>Adventure|Animation|Children|Comedy|Fantasy</td>\n",
       "    </tr>\n",
       "    <tr>\n",
       "      <th>1</th>\n",
       "      <td>2</td>\n",
       "      <td>Jumanji (1995)</td>\n",
       "      <td>Adventure|Children|Fantasy</td>\n",
       "    </tr>\n",
       "    <tr>\n",
       "      <th>2</th>\n",
       "      <td>3</td>\n",
       "      <td>Grumpier Old Men (1995)</td>\n",
       "      <td>Comedy|Romance</td>\n",
       "    </tr>\n",
       "    <tr>\n",
       "      <th>3</th>\n",
       "      <td>4</td>\n",
       "      <td>Waiting to Exhale (1995)</td>\n",
       "      <td>Comedy|Drama|Romance</td>\n",
       "    </tr>\n",
       "    <tr>\n",
       "      <th>4</th>\n",
       "      <td>5</td>\n",
       "      <td>Father of the Bride Part II (1995)</td>\n",
       "      <td>Comedy</td>\n",
       "    </tr>\n",
       "    <tr>\n",
       "      <th>5</th>\n",
       "      <td>6</td>\n",
       "      <td>Heat (1995)</td>\n",
       "      <td>Action|Crime|Thriller</td>\n",
       "    </tr>\n",
       "    <tr>\n",
       "      <th>6</th>\n",
       "      <td>7</td>\n",
       "      <td>Sabrina (1995)</td>\n",
       "      <td>Comedy|Romance</td>\n",
       "    </tr>\n",
       "    <tr>\n",
       "      <th>7</th>\n",
       "      <td>8</td>\n",
       "      <td>Tom and Huck (1995)</td>\n",
       "      <td>Adventure|Children</td>\n",
       "    </tr>\n",
       "    <tr>\n",
       "      <th>8</th>\n",
       "      <td>9</td>\n",
       "      <td>Sudden Death (1995)</td>\n",
       "      <td>Action</td>\n",
       "    </tr>\n",
       "    <tr>\n",
       "      <th>9</th>\n",
       "      <td>10</td>\n",
       "      <td>GoldenEye (1995)</td>\n",
       "      <td>Action|Adventure|Thriller</td>\n",
       "    </tr>\n",
       "  </tbody>\n",
       "</table>\n",
       "</div>"
      ],
      "text/plain": [
       "   movieId                               title  \\\n",
       "0        1                    Toy Story (1995)   \n",
       "1        2                      Jumanji (1995)   \n",
       "2        3             Grumpier Old Men (1995)   \n",
       "3        4            Waiting to Exhale (1995)   \n",
       "4        5  Father of the Bride Part II (1995)   \n",
       "5        6                         Heat (1995)   \n",
       "6        7                      Sabrina (1995)   \n",
       "7        8                 Tom and Huck (1995)   \n",
       "8        9                 Sudden Death (1995)   \n",
       "9       10                    GoldenEye (1995)   \n",
       "\n",
       "                                        genres  \n",
       "0  Adventure|Animation|Children|Comedy|Fantasy  \n",
       "1                   Adventure|Children|Fantasy  \n",
       "2                               Comedy|Romance  \n",
       "3                         Comedy|Drama|Romance  \n",
       "4                                       Comedy  \n",
       "5                        Action|Crime|Thriller  \n",
       "6                               Comedy|Romance  \n",
       "7                           Adventure|Children  \n",
       "8                                       Action  \n",
       "9                    Action|Adventure|Thriller  "
      ]
     },
     "execution_count": 6,
     "metadata": {
      "tags": []
     },
     "output_type": "execute_result"
    }
   ],
   "source": [
    "df_Movies = pd.read_csv(Movies_Path)\n",
    "df_Movies.head(10)"
   ]
  },
  {
   "cell_type": "markdown",
   "metadata": {
    "colab_type": "text",
    "id": "Hg7hnqNwQP8n"
   },
   "source": [
    "## No of distinct Movies (Items) ?\n",
    "We said that this data-set has 9125 movies. Lets confirm it by counting the number of rows this file has, as each row have information about a distinct movie"
   ]
  },
  {
   "cell_type": "code",
   "execution_count": 0,
   "metadata": {
    "colab": {},
    "colab_type": "code",
    "id": "zIyw7fBLQP8o",
    "outputId": "7732e88b-9949-4398-e378-4c2aa2cb676d"
   },
   "outputs": [
    {
     "name": "stdout",
     "output_type": "stream",
     "text": [
      "No of distinct Movies are: 9125\n"
     ]
    }
   ],
   "source": [
    "print(\"No of distinct Movies are: \"+str(df_Movies.shape[0]))"
   ]
  },
  {
   "cell_type": "markdown",
   "metadata": {
    "colab_type": "text",
    "id": "BBCLXryQQP8s"
   },
   "source": [
    "## Lets make our life easier and create some dictionaries to look up movies\n",
    "as we would want to search a movie name in future by only giving its id."
   ]
  },
  {
   "cell_type": "code",
   "execution_count": 0,
   "metadata": {
    "colab": {},
    "colab_type": "code",
    "id": "oqPuTxRfQP8t"
   },
   "outputs": [],
   "source": [
    "#Creating Dictionaries Movies_To_ID, ID_To_Movies\n",
    "Movies_To_ID = {} #Dictionary that saves movie id as key and movie name as value\n",
    "ID_To_Movies = {} #Dictionary that saves movie name as key and movie id as value\n",
    "\n",
    "ID_To_Movies = pd.Series(df_Movies.title.tolist(),df_Movies.movieId.tolist()).to_dict()\n",
    "Movies_To_ID = pd.Series(df_Movies.movieId.tolist(),df_Movies.title.tolist()).to_dict()"
   ]
  },
  {
   "cell_type": "markdown",
   "metadata": {
    "colab_type": "text",
    "id": "zjSFASiJQP8y"
   },
   "source": [
    "## Lets explore 2nd input file, \"ratings.csv\" \n",
    "lets load up this file into a pandas data-frame, and see what this ratings.csv file contain\n",
    "lets print first 10 rows of this dataset"
   ]
  },
  {
   "cell_type": "code",
   "execution_count": 0,
   "metadata": {
    "colab": {},
    "colab_type": "code",
    "id": "2LhwnouzQP8z",
    "outputId": "059f2d12-f535-4ca8-d9c6-a42d476258a5"
   },
   "outputs": [
    {
     "data": {
      "text/html": [
       "<div>\n",
       "<style scoped>\n",
       "    .dataframe tbody tr th:only-of-type {\n",
       "        vertical-align: middle;\n",
       "    }\n",
       "\n",
       "    .dataframe tbody tr th {\n",
       "        vertical-align: top;\n",
       "    }\n",
       "\n",
       "    .dataframe thead th {\n",
       "        text-align: right;\n",
       "    }\n",
       "</style>\n",
       "<table border=\"1\" class=\"dataframe\">\n",
       "  <thead>\n",
       "    <tr style=\"text-align: right;\">\n",
       "      <th></th>\n",
       "      <th>userId</th>\n",
       "      <th>movieId</th>\n",
       "      <th>rating</th>\n",
       "      <th>timestamp</th>\n",
       "    </tr>\n",
       "  </thead>\n",
       "  <tbody>\n",
       "    <tr>\n",
       "      <th>0</th>\n",
       "      <td>1</td>\n",
       "      <td>31</td>\n",
       "      <td>2.5</td>\n",
       "      <td>1260759144</td>\n",
       "    </tr>\n",
       "    <tr>\n",
       "      <th>1</th>\n",
       "      <td>1</td>\n",
       "      <td>1029</td>\n",
       "      <td>3.0</td>\n",
       "      <td>1260759179</td>\n",
       "    </tr>\n",
       "    <tr>\n",
       "      <th>2</th>\n",
       "      <td>1</td>\n",
       "      <td>1061</td>\n",
       "      <td>3.0</td>\n",
       "      <td>1260759182</td>\n",
       "    </tr>\n",
       "    <tr>\n",
       "      <th>3</th>\n",
       "      <td>1</td>\n",
       "      <td>1129</td>\n",
       "      <td>2.0</td>\n",
       "      <td>1260759185</td>\n",
       "    </tr>\n",
       "    <tr>\n",
       "      <th>4</th>\n",
       "      <td>1</td>\n",
       "      <td>1172</td>\n",
       "      <td>4.0</td>\n",
       "      <td>1260759205</td>\n",
       "    </tr>\n",
       "    <tr>\n",
       "      <th>5</th>\n",
       "      <td>1</td>\n",
       "      <td>1263</td>\n",
       "      <td>2.0</td>\n",
       "      <td>1260759151</td>\n",
       "    </tr>\n",
       "    <tr>\n",
       "      <th>6</th>\n",
       "      <td>1</td>\n",
       "      <td>1287</td>\n",
       "      <td>2.0</td>\n",
       "      <td>1260759187</td>\n",
       "    </tr>\n",
       "    <tr>\n",
       "      <th>7</th>\n",
       "      <td>1</td>\n",
       "      <td>1293</td>\n",
       "      <td>2.0</td>\n",
       "      <td>1260759148</td>\n",
       "    </tr>\n",
       "    <tr>\n",
       "      <th>8</th>\n",
       "      <td>1</td>\n",
       "      <td>1339</td>\n",
       "      <td>3.5</td>\n",
       "      <td>1260759125</td>\n",
       "    </tr>\n",
       "    <tr>\n",
       "      <th>9</th>\n",
       "      <td>1</td>\n",
       "      <td>1343</td>\n",
       "      <td>2.0</td>\n",
       "      <td>1260759131</td>\n",
       "    </tr>\n",
       "  </tbody>\n",
       "</table>\n",
       "</div>"
      ],
      "text/plain": [
       "   userId  movieId  rating   timestamp\n",
       "0       1       31     2.5  1260759144\n",
       "1       1     1029     3.0  1260759179\n",
       "2       1     1061     3.0  1260759182\n",
       "3       1     1129     2.0  1260759185\n",
       "4       1     1172     4.0  1260759205\n",
       "5       1     1263     2.0  1260759151\n",
       "6       1     1287     2.0  1260759187\n",
       "7       1     1293     2.0  1260759148\n",
       "8       1     1339     3.5  1260759125\n",
       "9       1     1343     2.0  1260759131"
      ]
     },
     "execution_count": 9,
     "metadata": {
      "tags": []
     },
     "output_type": "execute_result"
    }
   ],
   "source": [
    "df_Ratings = pd.read_csv(Ratings_Path)\n",
    "df_Ratings.head(10)"
   ]
  },
  {
   "cell_type": "markdown",
   "metadata": {
    "colab_type": "text",
    "id": "jz8ExxuwQP84"
   },
   "source": [
    "So the row 0 of this matrix tells that User having id 1 rated a movie with 2.5 having id 31"
   ]
  },
  {
   "cell_type": "markdown",
   "metadata": {
    "colab_type": "text",
    "id": "rwsrxHYzQP85"
   },
   "source": [
    "## Number of distinct ratings?\n",
    "as we said that we have 100004 ratings of 671 users for 9125 movies"
   ]
  },
  {
   "cell_type": "code",
   "execution_count": 0,
   "metadata": {
    "colab": {},
    "colab_type": "code",
    "id": "DQ_UZuzDQP87",
    "outputId": "cda6c7f5-84ff-4688-94d3-38b2ab219df2"
   },
   "outputs": [
    {
     "name": "stdout",
     "output_type": "stream",
     "text": [
      "Number of distinct user ratings are: 100004\n"
     ]
    }
   ],
   "source": [
    "print(\"Number of distinct user ratings are: \"+str(df_Ratings.shape[0]))"
   ]
  },
  {
   "cell_type": "markdown",
   "metadata": {
    "colab_type": "text",
    "id": "YiHhcGwvQP9C"
   },
   "source": [
    "### As we now know that what is the input data, we should define some utility functions that will help us in further steps of doing recommendations"
   ]
  },
  {
   "cell_type": "markdown",
   "metadata": {
    "colab_type": "text",
    "id": "yE4cDxjhQP9D"
   },
   "source": [
    "## Utility Functions"
   ]
  },
  {
   "cell_type": "markdown",
   "metadata": {
    "colab_type": "text",
    "id": "NgGgnJ9TQP9F"
   },
   "source": [
    "### Lets define a function to get a movie name? "
   ]
  },
  {
   "cell_type": "code",
   "execution_count": 0,
   "metadata": {
    "colab": {},
    "colab_type": "code",
    "id": "2OxsYLRGQP9H"
   },
   "outputs": [],
   "source": [
    "def getMovieName(movieID): #it gets a movie id as input and return its name from the ID_To_Movies dictionary we created above\n",
    "    if movieID in ID_To_Movies:\n",
    "        return ID_To_Movies[movieID]\n",
    "    else:\n",
    "        return \"\""
   ]
  },
  {
   "cell_type": "markdown",
   "metadata": {
    "colab_type": "text",
    "id": "xRIs3XiuQP9N"
   },
   "source": [
    "### Testing our utility function for movie id 1"
   ]
  },
  {
   "cell_type": "code",
   "execution_count": 0,
   "metadata": {
    "colab": {},
    "colab_type": "code",
    "id": "FujiUeKdQP9O",
    "outputId": "afdcb875-4b6e-4f0c-86bc-03becb6da9bb"
   },
   "outputs": [
    {
     "data": {
      "text/plain": [
       "'Toy Story (1995)'"
      ]
     },
     "execution_count": 12,
     "metadata": {
      "tags": []
     },
     "output_type": "execute_result"
    }
   ],
   "source": [
    "getMovieName(1)"
   ]
  },
  {
   "cell_type": "markdown",
   "metadata": {
    "colab_type": "text",
    "id": "HoFnKkgVQP9T"
   },
   "source": [
    "### What are the features of a movie?\n",
    "as we have to somehow find similar movies in future, so we should know on what basis a movie is similar to another movie.\n",
    "### Movie Genres, seems to be an accurate feature for finding out similarity between movies"
   ]
  },
  {
   "cell_type": "markdown",
   "metadata": {
    "colab_type": "text",
    "id": "Z1wUc_fUQP9U"
   },
   "source": [
    "### So lets extract genres of a particular movie?\n",
    "#### Lets define a function\n",
    "input to this function is a movie id and it returns all genres this movie belong to in a list"
   ]
  },
  {
   "cell_type": "code",
   "execution_count": 0,
   "metadata": {
    "colab": {},
    "colab_type": "code",
    "id": "BiFRs7BEQP9V"
   },
   "outputs": [],
   "source": [
    "def getMovieGenres(id): #give movie id\n",
    "    return df_Movies[df_Movies[\"movieId\"] == id].genres.iloc[0].split(\"|\") #spliting genres based on \"|\""
   ]
  },
  {
   "cell_type": "markdown",
   "metadata": {
    "colab_type": "text",
    "id": "gu6Z7SNyQP9Z"
   },
   "source": [
    "### Lets test our utility function for movie id 1 (Toy Story (1995))"
   ]
  },
  {
   "cell_type": "code",
   "execution_count": 0,
   "metadata": {
    "colab": {},
    "colab_type": "code",
    "id": "lyjzj-qsQP9a",
    "outputId": "8beab451-ab98-45d9-c914-7abfbbebd4f2"
   },
   "outputs": [
    {
     "data": {
      "text/plain": [
       "['Adventure', 'Animation', 'Children', 'Comedy', 'Fantasy']"
      ]
     },
     "execution_count": 14,
     "metadata": {
      "tags": []
     },
     "output_type": "execute_result"
    }
   ],
   "source": [
    "getMovieGenres(1)"
   ]
  },
  {
   "cell_type": "markdown",
   "metadata": {
    "colab_type": "text",
    "id": "eGmRt7VpQP9e"
   },
   "source": [
    "# We would test our utility functions on user with id 1"
   ]
  },
  {
   "cell_type": "markdown",
   "metadata": {
    "colab_type": "text",
    "id": "DidTk0FpQP9g"
   },
   "source": [
    "### Movies watched by user 1"
   ]
  },
  {
   "cell_type": "code",
   "execution_count": 0,
   "metadata": {
    "colab": {},
    "colab_type": "code",
    "id": "2jP50zoyQP9i",
    "outputId": "6848e115-0227-4bfc-ef74-5d140c0e381e"
   },
   "outputs": [
    {
     "data": {
      "text/html": [
       "<div>\n",
       "<style scoped>\n",
       "    .dataframe tbody tr th:only-of-type {\n",
       "        vertical-align: middle;\n",
       "    }\n",
       "\n",
       "    .dataframe tbody tr th {\n",
       "        vertical-align: top;\n",
       "    }\n",
       "\n",
       "    .dataframe thead th {\n",
       "        text-align: right;\n",
       "    }\n",
       "</style>\n",
       "<table border=\"1\" class=\"dataframe\">\n",
       "  <thead>\n",
       "    <tr style=\"text-align: right;\">\n",
       "      <th></th>\n",
       "      <th>userId</th>\n",
       "      <th>movieId</th>\n",
       "      <th>rating</th>\n",
       "      <th>timestamp</th>\n",
       "    </tr>\n",
       "  </thead>\n",
       "  <tbody>\n",
       "    <tr>\n",
       "      <th>0</th>\n",
       "      <td>1</td>\n",
       "      <td>31</td>\n",
       "      <td>2.5</td>\n",
       "      <td>1260759144</td>\n",
       "    </tr>\n",
       "    <tr>\n",
       "      <th>1</th>\n",
       "      <td>1</td>\n",
       "      <td>1029</td>\n",
       "      <td>3.0</td>\n",
       "      <td>1260759179</td>\n",
       "    </tr>\n",
       "    <tr>\n",
       "      <th>2</th>\n",
       "      <td>1</td>\n",
       "      <td>1061</td>\n",
       "      <td>3.0</td>\n",
       "      <td>1260759182</td>\n",
       "    </tr>\n",
       "    <tr>\n",
       "      <th>3</th>\n",
       "      <td>1</td>\n",
       "      <td>1129</td>\n",
       "      <td>2.0</td>\n",
       "      <td>1260759185</td>\n",
       "    </tr>\n",
       "    <tr>\n",
       "      <th>4</th>\n",
       "      <td>1</td>\n",
       "      <td>1172</td>\n",
       "      <td>4.0</td>\n",
       "      <td>1260759205</td>\n",
       "    </tr>\n",
       "    <tr>\n",
       "      <th>5</th>\n",
       "      <td>1</td>\n",
       "      <td>1263</td>\n",
       "      <td>2.0</td>\n",
       "      <td>1260759151</td>\n",
       "    </tr>\n",
       "    <tr>\n",
       "      <th>6</th>\n",
       "      <td>1</td>\n",
       "      <td>1287</td>\n",
       "      <td>2.0</td>\n",
       "      <td>1260759187</td>\n",
       "    </tr>\n",
       "    <tr>\n",
       "      <th>7</th>\n",
       "      <td>1</td>\n",
       "      <td>1293</td>\n",
       "      <td>2.0</td>\n",
       "      <td>1260759148</td>\n",
       "    </tr>\n",
       "    <tr>\n",
       "      <th>8</th>\n",
       "      <td>1</td>\n",
       "      <td>1339</td>\n",
       "      <td>3.5</td>\n",
       "      <td>1260759125</td>\n",
       "    </tr>\n",
       "    <tr>\n",
       "      <th>9</th>\n",
       "      <td>1</td>\n",
       "      <td>1343</td>\n",
       "      <td>2.0</td>\n",
       "      <td>1260759131</td>\n",
       "    </tr>\n",
       "    <tr>\n",
       "      <th>10</th>\n",
       "      <td>1</td>\n",
       "      <td>1371</td>\n",
       "      <td>2.5</td>\n",
       "      <td>1260759135</td>\n",
       "    </tr>\n",
       "    <tr>\n",
       "      <th>11</th>\n",
       "      <td>1</td>\n",
       "      <td>1405</td>\n",
       "      <td>1.0</td>\n",
       "      <td>1260759203</td>\n",
       "    </tr>\n",
       "    <tr>\n",
       "      <th>12</th>\n",
       "      <td>1</td>\n",
       "      <td>1953</td>\n",
       "      <td>4.0</td>\n",
       "      <td>1260759191</td>\n",
       "    </tr>\n",
       "    <tr>\n",
       "      <th>13</th>\n",
       "      <td>1</td>\n",
       "      <td>2105</td>\n",
       "      <td>4.0</td>\n",
       "      <td>1260759139</td>\n",
       "    </tr>\n",
       "    <tr>\n",
       "      <th>14</th>\n",
       "      <td>1</td>\n",
       "      <td>2150</td>\n",
       "      <td>3.0</td>\n",
       "      <td>1260759194</td>\n",
       "    </tr>\n",
       "    <tr>\n",
       "      <th>15</th>\n",
       "      <td>1</td>\n",
       "      <td>2193</td>\n",
       "      <td>2.0</td>\n",
       "      <td>1260759198</td>\n",
       "    </tr>\n",
       "    <tr>\n",
       "      <th>16</th>\n",
       "      <td>1</td>\n",
       "      <td>2294</td>\n",
       "      <td>2.0</td>\n",
       "      <td>1260759108</td>\n",
       "    </tr>\n",
       "    <tr>\n",
       "      <th>17</th>\n",
       "      <td>1</td>\n",
       "      <td>2455</td>\n",
       "      <td>2.5</td>\n",
       "      <td>1260759113</td>\n",
       "    </tr>\n",
       "    <tr>\n",
       "      <th>18</th>\n",
       "      <td>1</td>\n",
       "      <td>2968</td>\n",
       "      <td>1.0</td>\n",
       "      <td>1260759200</td>\n",
       "    </tr>\n",
       "    <tr>\n",
       "      <th>19</th>\n",
       "      <td>1</td>\n",
       "      <td>3671</td>\n",
       "      <td>3.0</td>\n",
       "      <td>1260759117</td>\n",
       "    </tr>\n",
       "  </tbody>\n",
       "</table>\n",
       "</div>"
      ],
      "text/plain": [
       "    userId  movieId  rating   timestamp\n",
       "0        1       31     2.5  1260759144\n",
       "1        1     1029     3.0  1260759179\n",
       "2        1     1061     3.0  1260759182\n",
       "3        1     1129     2.0  1260759185\n",
       "4        1     1172     4.0  1260759205\n",
       "5        1     1263     2.0  1260759151\n",
       "6        1     1287     2.0  1260759187\n",
       "7        1     1293     2.0  1260759148\n",
       "8        1     1339     3.5  1260759125\n",
       "9        1     1343     2.0  1260759131\n",
       "10       1     1371     2.5  1260759135\n",
       "11       1     1405     1.0  1260759203\n",
       "12       1     1953     4.0  1260759191\n",
       "13       1     2105     4.0  1260759139\n",
       "14       1     2150     3.0  1260759194\n",
       "15       1     2193     2.0  1260759198\n",
       "16       1     2294     2.0  1260759108\n",
       "17       1     2455     2.5  1260759113\n",
       "18       1     2968     1.0  1260759200\n",
       "19       1     3671     3.0  1260759117"
      ]
     },
     "execution_count": 15,
     "metadata": {
      "tags": []
     },
     "output_type": "execute_result"
    }
   ],
   "source": [
    "dfU1 = df_Ratings[df_Ratings[\"userId\"] == 1]\n",
    "dfU1"
   ]
  },
  {
   "cell_type": "markdown",
   "metadata": {
    "colab_type": "text",
    "id": "gzp0Zis6QP9o"
   },
   "source": [
    "### Average rating user 1 give to movies"
   ]
  },
  {
   "cell_type": "code",
   "execution_count": 0,
   "metadata": {
    "colab": {},
    "colab_type": "code",
    "id": "k1tR6vm5QP9q",
    "outputId": "bed95d0e-a2bf-4a6e-af90-a72c9a88ac5e"
   },
   "outputs": [
    {
     "name": "stdout",
     "output_type": "stream",
     "text": [
      "Average rating given by User 1: 2.55\n"
     ]
    }
   ],
   "source": [
    "print(\"Average rating given by User 1: \"+str(dfU1.rating.mean()))"
   ]
  },
  {
   "cell_type": "markdown",
   "metadata": {
    "colab_type": "text",
    "id": "gIe4XGyNQP9-"
   },
   "source": [
    "### Movies watched by User 1"
   ]
  },
  {
   "cell_type": "code",
   "execution_count": 0,
   "metadata": {
    "colab": {},
    "colab_type": "code",
    "id": "CAF-ySaWQP9_",
    "outputId": "66d84917-d6c9-4d79-8984-3d9f31b6927a"
   },
   "outputs": [
    {
     "name": "stdout",
     "output_type": "stream",
     "text": [
      "Movie Name: Dangerous Minds (1995)\n",
      "Movie Genres: ['Drama']\n",
      "Movie Name: Dumbo (1941)\n",
      "Movie Genres: ['Animation', 'Children', 'Drama', 'Musical']\n",
      "Movie Name: Sleepers (1996)\n",
      "Movie Genres: ['Thriller']\n",
      "Movie Name: Escape from New York (1981)\n",
      "Movie Genres: ['Action', 'Adventure', 'Sci-Fi', 'Thriller']\n",
      "Movie Name: Cinema Paradiso (Nuovo cinema Paradiso) (1989)\n",
      "Movie Genres: ['Drama']\n",
      "Movie Name: Deer Hunter, The (1978)\n",
      "Movie Genres: ['Drama', 'War']\n",
      "Movie Name: Ben-Hur (1959)\n",
      "Movie Genres: ['Action', 'Adventure', 'Drama']\n",
      "Movie Name: Gandhi (1982)\n",
      "Movie Genres: ['Drama']\n",
      "Movie Name: Dracula (Bram Stoker's Dracula) (1992)\n",
      "Movie Genres: ['Fantasy', 'Horror', 'Romance', 'Thriller']\n",
      "Movie Name: Cape Fear (1991)\n",
      "Movie Genres: ['Thriller']\n",
      "Movie Name: Star Trek: The Motion Picture (1979)\n",
      "Movie Genres: ['Adventure', 'Sci-Fi']\n",
      "Movie Name: Beavis and Butt-Head Do America (1996)\n",
      "Movie Genres: ['Adventure', 'Animation', 'Comedy', 'Crime']\n",
      "Movie Name: French Connection, The (1971)\n",
      "Movie Genres: ['Action', 'Crime', 'Thriller']\n",
      "Movie Name: Tron (1982)\n",
      "Movie Genres: ['Action', 'Adventure', 'Sci-Fi']\n",
      "Movie Name: Gods Must Be Crazy, The (1980)\n",
      "Movie Genres: ['Adventure', 'Comedy']\n",
      "Movie Name: Willow (1988)\n",
      "Movie Genres: ['Action', 'Adventure', 'Fantasy']\n",
      "Movie Name: Antz (1998)\n",
      "Movie Genres: ['Adventure', 'Animation', 'Children', 'Comedy', 'Fantasy']\n",
      "Movie Name: Fly, The (1986)\n",
      "Movie Genres: ['Drama', 'Horror', 'Sci-Fi', 'Thriller']\n",
      "Movie Name: Time Bandits (1981)\n",
      "Movie Genres: ['Adventure', 'Comedy', 'Fantasy', 'Sci-Fi']\n",
      "Movie Name: Blazing Saddles (1974)\n",
      "Movie Genres: ['Comedy', 'Western']\n"
     ]
    }
   ],
   "source": [
    "moviesU1 = dfU1.movieId.tolist()\n",
    "for i in moviesU1:\n",
    "    print(\"Movie Name: \"+getMovieName(i))\n",
    "    print(\"Movie Genres: \"+str(getMovieGenres(i)))"
   ]
  },
  {
   "cell_type": "markdown",
   "metadata": {
    "colab_type": "text",
    "id": "NyqHKN5YQP-I"
   },
   "source": [
    "# Lets define functions"
   ]
  },
  {
   "cell_type": "markdown",
   "metadata": {
    "colab_type": "text",
    "id": "PTJJctilQP-K"
   },
   "source": [
    "### Function to get all ratings of a particular user\n",
    "We input this function a **userId** and it returns, all ratings of this user in a list"
   ]
  },
  {
   "cell_type": "code",
   "execution_count": 0,
   "metadata": {
    "colab": {},
    "colab_type": "code",
    "collapsed": true,
    "id": "YSuoQz0EQP-L"
   },
   "outputs": [],
   "source": [
    "def getUserRatings(user): \n",
    "    df = df_Ratings[df_Ratings[\"userId\"] == user] #finding ratings from ratings dataframe\n",
    "    return df.rating.tolist()"
   ]
  },
  {
   "cell_type": "markdown",
   "metadata": {
    "colab_type": "text",
    "id": "Xz14TVYBQP-O"
   },
   "source": [
    "### Before testing this utility function lets see all rated movies by user 1"
   ]
  },
  {
   "cell_type": "code",
   "execution_count": 0,
   "metadata": {
    "colab": {},
    "colab_type": "code",
    "id": "XbpCY-yjQP-P",
    "outputId": "875aa228-bbf2-4875-c644-f41c2c76e8dc",
    "scrolled": true
   },
   "outputs": [
    {
     "data": {
      "text/html": [
       "<div>\n",
       "<style scoped>\n",
       "    .dataframe tbody tr th:only-of-type {\n",
       "        vertical-align: middle;\n",
       "    }\n",
       "\n",
       "    .dataframe tbody tr th {\n",
       "        vertical-align: top;\n",
       "    }\n",
       "\n",
       "    .dataframe thead th {\n",
       "        text-align: right;\n",
       "    }\n",
       "</style>\n",
       "<table border=\"1\" class=\"dataframe\">\n",
       "  <thead>\n",
       "    <tr style=\"text-align: right;\">\n",
       "      <th></th>\n",
       "      <th>userId</th>\n",
       "      <th>movieId</th>\n",
       "      <th>rating</th>\n",
       "      <th>timestamp</th>\n",
       "    </tr>\n",
       "  </thead>\n",
       "  <tbody>\n",
       "    <tr>\n",
       "      <th>0</th>\n",
       "      <td>1</td>\n",
       "      <td>31</td>\n",
       "      <td>2.5</td>\n",
       "      <td>1260759144</td>\n",
       "    </tr>\n",
       "    <tr>\n",
       "      <th>1</th>\n",
       "      <td>1</td>\n",
       "      <td>1029</td>\n",
       "      <td>3.0</td>\n",
       "      <td>1260759179</td>\n",
       "    </tr>\n",
       "    <tr>\n",
       "      <th>2</th>\n",
       "      <td>1</td>\n",
       "      <td>1061</td>\n",
       "      <td>3.0</td>\n",
       "      <td>1260759182</td>\n",
       "    </tr>\n",
       "    <tr>\n",
       "      <th>3</th>\n",
       "      <td>1</td>\n",
       "      <td>1129</td>\n",
       "      <td>2.0</td>\n",
       "      <td>1260759185</td>\n",
       "    </tr>\n",
       "    <tr>\n",
       "      <th>4</th>\n",
       "      <td>1</td>\n",
       "      <td>1172</td>\n",
       "      <td>4.0</td>\n",
       "      <td>1260759205</td>\n",
       "    </tr>\n",
       "    <tr>\n",
       "      <th>5</th>\n",
       "      <td>1</td>\n",
       "      <td>1263</td>\n",
       "      <td>2.0</td>\n",
       "      <td>1260759151</td>\n",
       "    </tr>\n",
       "    <tr>\n",
       "      <th>6</th>\n",
       "      <td>1</td>\n",
       "      <td>1287</td>\n",
       "      <td>2.0</td>\n",
       "      <td>1260759187</td>\n",
       "    </tr>\n",
       "    <tr>\n",
       "      <th>7</th>\n",
       "      <td>1</td>\n",
       "      <td>1293</td>\n",
       "      <td>2.0</td>\n",
       "      <td>1260759148</td>\n",
       "    </tr>\n",
       "    <tr>\n",
       "      <th>8</th>\n",
       "      <td>1</td>\n",
       "      <td>1339</td>\n",
       "      <td>3.5</td>\n",
       "      <td>1260759125</td>\n",
       "    </tr>\n",
       "    <tr>\n",
       "      <th>9</th>\n",
       "      <td>1</td>\n",
       "      <td>1343</td>\n",
       "      <td>2.0</td>\n",
       "      <td>1260759131</td>\n",
       "    </tr>\n",
       "    <tr>\n",
       "      <th>10</th>\n",
       "      <td>1</td>\n",
       "      <td>1371</td>\n",
       "      <td>2.5</td>\n",
       "      <td>1260759135</td>\n",
       "    </tr>\n",
       "    <tr>\n",
       "      <th>11</th>\n",
       "      <td>1</td>\n",
       "      <td>1405</td>\n",
       "      <td>1.0</td>\n",
       "      <td>1260759203</td>\n",
       "    </tr>\n",
       "    <tr>\n",
       "      <th>12</th>\n",
       "      <td>1</td>\n",
       "      <td>1953</td>\n",
       "      <td>4.0</td>\n",
       "      <td>1260759191</td>\n",
       "    </tr>\n",
       "    <tr>\n",
       "      <th>13</th>\n",
       "      <td>1</td>\n",
       "      <td>2105</td>\n",
       "      <td>4.0</td>\n",
       "      <td>1260759139</td>\n",
       "    </tr>\n",
       "    <tr>\n",
       "      <th>14</th>\n",
       "      <td>1</td>\n",
       "      <td>2150</td>\n",
       "      <td>3.0</td>\n",
       "      <td>1260759194</td>\n",
       "    </tr>\n",
       "    <tr>\n",
       "      <th>15</th>\n",
       "      <td>1</td>\n",
       "      <td>2193</td>\n",
       "      <td>2.0</td>\n",
       "      <td>1260759198</td>\n",
       "    </tr>\n",
       "    <tr>\n",
       "      <th>16</th>\n",
       "      <td>1</td>\n",
       "      <td>2294</td>\n",
       "      <td>2.0</td>\n",
       "      <td>1260759108</td>\n",
       "    </tr>\n",
       "    <tr>\n",
       "      <th>17</th>\n",
       "      <td>1</td>\n",
       "      <td>2455</td>\n",
       "      <td>2.5</td>\n",
       "      <td>1260759113</td>\n",
       "    </tr>\n",
       "    <tr>\n",
       "      <th>18</th>\n",
       "      <td>1</td>\n",
       "      <td>2968</td>\n",
       "      <td>1.0</td>\n",
       "      <td>1260759200</td>\n",
       "    </tr>\n",
       "    <tr>\n",
       "      <th>19</th>\n",
       "      <td>1</td>\n",
       "      <td>3671</td>\n",
       "      <td>3.0</td>\n",
       "      <td>1260759117</td>\n",
       "    </tr>\n",
       "  </tbody>\n",
       "</table>\n",
       "</div>"
      ],
      "text/plain": [
       "    userId  movieId  rating   timestamp\n",
       "0        1       31     2.5  1260759144\n",
       "1        1     1029     3.0  1260759179\n",
       "2        1     1061     3.0  1260759182\n",
       "3        1     1129     2.0  1260759185\n",
       "4        1     1172     4.0  1260759205\n",
       "5        1     1263     2.0  1260759151\n",
       "6        1     1287     2.0  1260759187\n",
       "7        1     1293     2.0  1260759148\n",
       "8        1     1339     3.5  1260759125\n",
       "9        1     1343     2.0  1260759131\n",
       "10       1     1371     2.5  1260759135\n",
       "11       1     1405     1.0  1260759203\n",
       "12       1     1953     4.0  1260759191\n",
       "13       1     2105     4.0  1260759139\n",
       "14       1     2150     3.0  1260759194\n",
       "15       1     2193     2.0  1260759198\n",
       "16       1     2294     2.0  1260759108\n",
       "17       1     2455     2.5  1260759113\n",
       "18       1     2968     1.0  1260759200\n",
       "19       1     3671     3.0  1260759117"
      ]
     },
     "execution_count": 19,
     "metadata": {
      "tags": []
     },
     "output_type": "execute_result"
    }
   ],
   "source": [
    "df_Ratings[df_Ratings[\"userId\"] == 1] #finding ratings of user 1"
   ]
  },
  {
   "cell_type": "markdown",
   "metadata": {
    "colab_type": "text",
    "id": "OBRI-w41QP-S"
   },
   "source": [
    "### Lets now test out utility function for user 1"
   ]
  },
  {
   "cell_type": "code",
   "execution_count": 0,
   "metadata": {
    "colab": {},
    "colab_type": "code",
    "id": "vy3YbMCmQP-T",
    "outputId": "2b0479c3-8935-4143-ae55-b822d2ceecba"
   },
   "outputs": [
    {
     "name": "stdout",
     "output_type": "stream",
     "text": [
      "[2.5, 3.0, 3.0, 2.0, 4.0, 2.0, 2.0, 2.0, 3.5, 2.0, 2.5, 1.0, 4.0, 4.0, 3.0, 2.0, 2.0, 2.5, 1.0, 3.0]\n"
     ]
    }
   ],
   "source": [
    "print(getUserRatings(1))"
   ]
  },
  {
   "cell_type": "markdown",
   "metadata": {
    "colab_type": "text",
    "id": "p9hkRRCzQP-Z"
   },
   "source": [
    "<font color = \"blue\"><h2><center>Great! Now we know what is our input data, so now we can move forward towards creating recommendations for a particular user learning his interests</center></h2></font>"
   ]
  },
  {
   "cell_type": "markdown",
   "metadata": {
    "colab_type": "text",
    "id": "RsEuDGW2QP-a"
   },
   "source": [
    "## Before moving forward lets recap a little"
   ]
  },
  {
   "cell_type": "markdown",
   "metadata": {
    "colab_type": "text",
    "id": "Wn5fgEhNQP-a"
   },
   "source": [
    "<img src = \"files/UBCF.png\" >"
   ]
  },
  {
   "cell_type": "markdown",
   "metadata": {
    "colab_type": "text",
    "id": "MLO8F9YiQP-b"
   },
   "source": [
    "## But wait!"
   ]
  },
  {
   "cell_type": "markdown",
   "metadata": {
    "colab_type": "text",
    "id": "B4JDfSENQP-c"
   },
   "source": [
    "## How do you find similar users to a particular user?"
   ]
  },
  {
   "cell_type": "markdown",
   "metadata": {
    "colab_type": "text",
    "id": "Es2WHTkHQP-f"
   },
   "source": [
    "#### Lets rethink what data we have?\n",
    "1. <h4>Movies</h4>\n",
    "2. <h4>Ratings</h4>"
   ]
  },
  {
   "cell_type": "markdown",
   "metadata": {
    "colab_type": "text",
    "id": "GjDUw3wuQP-g"
   },
   "source": [
    "### Lets see our ratings data into a new format\n",
    "as we have a user item ratings matrix, lets see it in another shape"
   ]
  },
  {
   "cell_type": "markdown",
   "metadata": {
    "colab_type": "text",
    "id": "4RKi6MspQP-h"
   },
   "source": [
    "## We have seen our data into this format\n",
    "\n",
    "## User - Item - Rating Matrix"
   ]
  },
  {
   "cell_type": "markdown",
   "metadata": {
    "colab_type": "text",
    "id": "wAUdiNceQP-h"
   },
   "source": [
    "<img src = \"files/U-I-R.png\" >"
   ]
  },
  {
   "cell_type": "markdown",
   "metadata": {
    "colab_type": "text",
    "id": "wWHBOmC6QP-i"
   },
   "source": [
    "## This is the same data as above (to find similar users)\n",
    "We can find similarities using\n",
    "1. Cosine\n",
    "2. Pearson\n",
    "3. Centered Cosine\n",
    "<img src = \"files/I-I.png\" >"
   ]
  },
  {
   "cell_type": "markdown",
   "metadata": {
    "colab_type": "text",
    "id": "Ng3-NcSHQP-k"
   },
   "source": [
    "## Lets now create a User-User Similarity Matrix\n",
    "<img src = \"files/u-u.png\" >"
   ]
  },
  {
   "cell_type": "markdown",
   "metadata": {
    "colab_type": "text",
    "id": "j0LIEE2bQP-l"
   },
   "source": [
    "<font color = \"blue\"><h2><center>So now we know how to find similar users</center></h2></font> "
   ]
  },
  {
   "cell_type": "markdown",
   "metadata": {
    "colab_type": "text",
    "id": "QgxTCveCQP-m"
   },
   "source": [
    "# Development of recommendation systems"
   ]
  },
  {
   "cell_type": "markdown",
   "metadata": {
    "colab_type": "text",
    "id": "tGSePOivQP-n"
   },
   "source": [
    "## Before moving forward, to compute the similarity matrix for our original data, we should know what libraries are we going to use for this purpose\n",
    "\n",
    "We will use a library called Surprise to build a simple collaborative filtering recommendation system\n",
    "\n",
    "## Scikit_Surprise\n",
    "Surprise is a Python scikit for building and analyzing recommender systems."
   ]
  },
  {
   "cell_type": "markdown",
   "metadata": {
    "colab_type": "text",
    "id": "be5WyYBUQP-o"
   },
   "source": [
    "## Surprise uses its own Dataset object, So we have to load our user item rating matrix into surprise's data-set"
   ]
  },
  {
   "cell_type": "code",
   "execution_count": 0,
   "metadata": {
    "colab": {},
    "colab_type": "code",
    "id": "xzSAbIyuQP-p",
    "outputId": "643ee413-af64-47fe-f96b-7a321c408111"
   },
   "outputs": [
    {
     "name": "stdout",
     "output_type": "stream",
     "text": [
      "Now Data has the user item rating matrix :)\n"
     ]
    }
   ],
   "source": [
    "## Reader specify in which format we have to pick our data, \n",
    "## like in the ratings file we have userid, movieid, rating and timestamp separated by \",\"\n",
    "## we pass that reader to dataset function and pass the file path\n",
    "\n",
    "reader = Reader(line_format=\"user item rating timestamp\",sep = \",\",skip_lines=1)\n",
    "Data = Dataset.load_from_file(Ratings_Path,reader) \n",
    "\n",
    "print(\"Now Data has the user item rating matrix :)\")"
   ]
  },
  {
   "cell_type": "markdown",
   "metadata": {
    "colab_type": "text",
    "id": "GuYvk0jcQP-v"
   },
   "source": [
    "# From now onwards, we will be focusing more on code"
   ]
  },
  {
   "cell_type": "markdown",
   "metadata": {
    "colab_type": "text",
    "id": "srVncWYTQP-w"
   },
   "source": [
    "# Collaborative Filtering"
   ]
  },
  {
   "cell_type": "markdown",
   "metadata": {
    "colab_type": "text",
    "id": "WPI49IvuQP-w"
   },
   "source": [
    "# 1- User Based Collaborative Filtering"
   ]
  },
  {
   "cell_type": "markdown",
   "metadata": {
    "colab_type": "text",
    "id": "n3tJp5sPQP-5"
   },
   "source": [
    "# Generating User to User Similarity Matrix using Cosine Similarity\n",
    "\n",
    "To find out the User-User Similarity matrix, we can use KNNBasic model, this model take user item rating matrix as input and generate both similarity matrices (User-User and Item-Item similarity matrix). To find out similarity between two users, you can use following similarity methods\n",
    "\n",
    "* Cosine\n",
    "* Pearson\n"
   ]
  },
  {
   "cell_type": "markdown",
   "metadata": {
    "colab_type": "text",
    "id": "mVwgeuR_QP-6"
   },
   "source": [
    "Before we start with the KNNBasic code to generate ** Similarity Matrices ** we should clearly understand its input which are\n",
    "* sim_option: it tells, which similarity method to use i.e. Cosine, Pearson etc. and the second option is whether you want to generate user-to-user similarity matrix or item-to-item similarity matrix\n",
    "* User - Item - Rating matrix"
   ]
  },
  {
   "cell_type": "code",
   "execution_count": 0,
   "metadata": {
    "colab": {},
    "colab_type": "code",
    "id": "HxBZGRxaQP-7",
    "outputId": "2e9a499f-f267-40e5-d468-126c8571418e"
   },
   "outputs": [
    {
     "name": "stdout",
     "output_type": "stream",
     "text": [
      "Computing the cosine similarity matrix...\n",
      "Done computing similarity matrix.\n",
      "Computing the cosine similarity matrix...\n",
      "Done computing similarity matrix.\n"
     ]
    }
   ],
   "source": [
    "TrainSetKNN = Data.build_full_trainset() #Surprise build the given dataset, i.e rows are users and columns are movies, \n",
    "                                         #we have seen this form in a diagram above\n",
    "\n",
    "sim_options = {'name': 'cosine','user_based': True} # setting similarity options\n",
    "model = KNNBasic(sim_options=sim_options) # loading our model\n",
    "model.fit(TrainSetKNN) # training our model onto our training data\n",
    "simsMatrix = model.compute_similarities() #saving the similarity matrix"
   ]
  },
  {
   "cell_type": "markdown",
   "metadata": {
    "colab_type": "text",
    "id": "gzkHXynfQP_A"
   },
   "source": [
    "## Lets see what this similarity matrix contain?"
   ]
  },
  {
   "cell_type": "code",
   "execution_count": 0,
   "metadata": {
    "colab": {},
    "colab_type": "code",
    "id": "Fj2f8vNfQP_B",
    "outputId": "cbda0eab-b584-49e4-b3a4-6ceac5b6ea82",
    "scrolled": true
   },
   "outputs": [
    {
     "data": {
      "text/plain": [
       "array([[1.        , 0.        , 0.        , ..., 1.        , 0.        ,\n",
       "        1.        ],\n",
       "       [0.        , 1.        , 0.95561425, ..., 0.776114  , 0.89144204,\n",
       "        0.97993672],\n",
       "       [0.        , 0.95561425, 1.        , ..., 0.99786069, 0.94592126,\n",
       "        0.98448284],\n",
       "       ...,\n",
       "       [1.        , 0.776114  , 0.99786069, ..., 1.        , 1.        ,\n",
       "        0.9952275 ],\n",
       "       [0.        , 0.89144204, 0.94592126, ..., 1.        , 1.        ,\n",
       "        0.96183401],\n",
       "       [1.        , 0.97993672, 0.98448284, ..., 0.9952275 , 0.96183401,\n",
       "        1.        ]])"
      ]
     },
     "execution_count": 23,
     "metadata": {
      "tags": []
     },
     "output_type": "execute_result"
    }
   ],
   "source": [
    "simsMatrix"
   ]
  },
  {
   "cell_type": "markdown",
   "metadata": {
    "colab_type": "text",
    "id": "rKWQna8LQP_H"
   },
   "source": [
    "## Did you get this similarity matrix?\n",
    "\n",
    "### if not, lets recall that (User-User Similarity Matrix) visual diagram\n",
    "<img src = \"files/u-u.png\" >"
   ]
  },
  {
   "cell_type": "markdown",
   "metadata": {
    "colab_type": "text",
    "id": "m7zhergJQP_I"
   },
   "source": [
    "## Lets get back to our generated similarity matrix\n",
    "### So the first row of this matrix shows the similarity score of user 1 with all other 671 user\n",
    "### As we said that we have 671 users in our dataset, so 671 x 671 similarity score?\n",
    "Lets confirm this"
   ]
  },
  {
   "cell_type": "code",
   "execution_count": 0,
   "metadata": {
    "colab": {},
    "colab_type": "code",
    "id": "2dsayodRQP_J",
    "outputId": "da6a0df2-5e1d-49e3-a23b-a987d42201d7"
   },
   "outputs": [
    {
     "name": "stdout",
     "output_type": "stream",
     "text": [
      "No of rows: 671\n"
     ]
    }
   ],
   "source": [
    "print(\"No of rows: \"+str(len(simsMatrix)))"
   ]
  },
  {
   "cell_type": "code",
   "execution_count": 0,
   "metadata": {
    "colab": {},
    "colab_type": "code",
    "id": "9MurY7iXQP_O",
    "outputId": "5b890130-3ede-4dbe-aa33-dc97d53895b7"
   },
   "outputs": [
    {
     "name": "stdout",
     "output_type": "stream",
     "text": [
      "No of columns: 671\n"
     ]
    }
   ],
   "source": [
    "print(\"No of columns: \"+str(len(simsMatrix[0])))"
   ]
  },
  {
   "cell_type": "markdown",
   "metadata": {
    "colab_type": "text",
    "id": "pvbUwSyTQP_T"
   },
   "source": [
    "# So the similarity matrix is ready, lets now apply user based collaborative filtering"
   ]
  },
  {
   "cell_type": "markdown",
   "metadata": {
    "colab_type": "text",
    "id": "7C9FQ1cJQP_U"
   },
   "source": [
    "# Remember the 4 Step process?"
   ]
  },
  {
   "cell_type": "markdown",
   "metadata": {
    "colab_type": "text",
    "id": "RZNLPZn7QP_U"
   },
   "source": [
    "<img src = \"files/UBCF.png\" >"
   ]
  },
  {
   "cell_type": "markdown",
   "metadata": {
    "colab_type": "text",
    "id": "ZQdnmEauQP_V"
   },
   "source": [
    "#  1- Finding out similar users\n",
    "## Lets take a user and find its similarity with all users from, similarity matrix\n",
    "please note that\n",
    "* \"User\" saves the user id you want to recommend\n",
    "* \"k\" is the number of top similar user you wan to extract"
   ]
  },
  {
   "cell_type": "code",
   "execution_count": 0,
   "metadata": {
    "colab": {},
    "colab_type": "code",
    "collapsed": true,
    "id": "WK6T45MhQP_X"
   },
   "outputs": [],
   "source": [
    "User = '1' # Save your user id here\n",
    "k = 5 #Select the no of top n recommendation\n",
    "\n",
    "UserInnerID = TrainSetKNN.to_inner_uid(User) #it converts the userid to inner user id in dataset\n",
    "similarityRow = simsMatrix[UserInnerID] # finding out the similarity score of User with all 671 users"
   ]
  },
  {
   "cell_type": "markdown",
   "metadata": {
    "colab_type": "text",
    "id": "XtkR7CMsQP_Z"
   },
   "source": [
    "# Generating Top 10 Similar Users\n",
    "we will now sort the similarity row, and take the top k users, where k is defined above"
   ]
  },
  {
   "cell_type": "code",
   "execution_count": 0,
   "metadata": {
    "colab": {},
    "colab_type": "code",
    "id": "CDPKmcA6QP_a",
    "outputId": "5adcc1e7-2369-440d-fef6-14d53cab5310"
   },
   "outputs": [
    {
     "name": "stdout",
     "output_type": "stream",
     "text": [
      "[(4, 1.0), (8, 1.0), (19, 1.0), (24, 1.0), (25, 1.0)]\n"
     ]
    }
   ],
   "source": [
    "similarUsers = [] # a list that saves all similar users of our targeted users in the form (innerID, score)\n",
    "                  # Where innerid is the similar user's id and score is the similarity score\n",
    "for innerID, score in enumerate(similarityRow):\n",
    "    if (innerID != UserInnerID):\n",
    "        similarUsers.append( (innerID, score) ) # appending similar users\n",
    "\n",
    "kNeighbors = heapq.nlargest(k, similarUsers, key=lambda t: t[1]) # taking out k top similar users, which you can say top k neighbours \n",
    "\n",
    "print(kNeighbors)"
   ]
  },
  {
   "cell_type": "code",
   "execution_count": 0,
   "metadata": {
    "colab": {},
    "colab_type": "code",
    "id": "8SxjQXL_QP_f",
    "outputId": "b0c9f0e2-31cc-4f99-8f77-2737c6d21d01"
   },
   "outputs": [
    {
     "data": {
      "text/html": [
       "<div>\n",
       "<style scoped>\n",
       "    .dataframe tbody tr th:only-of-type {\n",
       "        vertical-align: middle;\n",
       "    }\n",
       "\n",
       "    .dataframe tbody tr th {\n",
       "        vertical-align: top;\n",
       "    }\n",
       "\n",
       "    .dataframe thead th {\n",
       "        text-align: right;\n",
       "    }\n",
       "</style>\n",
       "<table border=\"1\" class=\"dataframe\">\n",
       "  <thead>\n",
       "    <tr style=\"text-align: right;\">\n",
       "      <th></th>\n",
       "      <th>Similar User Id</th>\n",
       "      <th>Similarity Score</th>\n",
       "    </tr>\n",
       "  </thead>\n",
       "  <tbody>\n",
       "    <tr>\n",
       "      <th>0</th>\n",
       "      <td>4</td>\n",
       "      <td>1.0</td>\n",
       "    </tr>\n",
       "    <tr>\n",
       "      <th>1</th>\n",
       "      <td>8</td>\n",
       "      <td>1.0</td>\n",
       "    </tr>\n",
       "    <tr>\n",
       "      <th>2</th>\n",
       "      <td>19</td>\n",
       "      <td>1.0</td>\n",
       "    </tr>\n",
       "    <tr>\n",
       "      <th>3</th>\n",
       "      <td>24</td>\n",
       "      <td>1.0</td>\n",
       "    </tr>\n",
       "    <tr>\n",
       "      <th>4</th>\n",
       "      <td>25</td>\n",
       "      <td>1.0</td>\n",
       "    </tr>\n",
       "  </tbody>\n",
       "</table>\n",
       "</div>"
      ],
      "text/plain": [
       "   Similar User Id  Similarity Score\n",
       "0                4               1.0\n",
       "1                8               1.0\n",
       "2               19               1.0\n",
       "3               24               1.0\n",
       "4               25               1.0"
      ]
     },
     "execution_count": 28,
     "metadata": {
      "tags": []
     },
     "output_type": "execute_result"
    }
   ],
   "source": [
    "sudf = pd.DataFrame(kNeighbors,columns=[\"Similar User Id\",\"Similarity Score\"])\n",
    "sudf"
   ]
  },
  {
   "cell_type": "markdown",
   "metadata": {
    "colab_type": "text",
    "id": "SeSCnvgKQP_j"
   },
   "source": [
    "# We are done with the first step, lets move to step 2\n",
    "<img src = \"files/UBCF1.png\" >"
   ]
  },
  {
   "cell_type": "markdown",
   "metadata": {
    "colab_type": "text",
    "id": "E2vJNrcIQP_j"
   },
   "source": [
    "# 2- Generating Candidates\n",
    "What are our candidates?\n",
    "* Candidates are the movies watched by similar users\n",
    "But how this process will go?\n",
    "\n",
    "* 1- we will take all the top similar users and find all the movies watched by a similar user\n",
    "* 2- we will normalize a candidate movie score by this formula (Normalization will be done on the basis of candidate rating and how similar this user was with the original user)\n",
    "<img src = \"files/Formula.png\" >\n",
    "* 3- We will the sort all these candidates based on the normalized score"
   ]
  },
  {
   "cell_type": "code",
   "execution_count": 0,
   "metadata": {
    "colab": {},
    "colab_type": "code",
    "collapsed": true,
    "id": "tjQFNvGsQP_k"
   },
   "outputs": [],
   "source": [
    "#generating candidates for a user for all similar users and normalize them with users similarity score\n",
    "\n",
    "Candidates = defaultdict(float) #Dictionary that contain the candidates i.e. movie id with its normalized score\n",
    "for SimilarUser in kNeighbors: #for each similar user (which are k, we will do the following steps)\n",
    "    ID_ = SimilarUser[0] #Storing the similar user id\n",
    "    SimScore = SimilarUser[1] #Storing the similar user Similarity score with the original user we want to recommend movies\n",
    "    SimUser_RatedMovies = TrainSetKNN.ur[ID_] #taking out all the rated movies by similar user i.e. candidates\n",
    "    for rating_ in SimUser_RatedMovies: #for all similar movies, we will do following\n",
    "        if(rating_[1] >= 3.0): #we would only score a candidate if its rating is above 3, because we assume if the user has rated above 3 he likes that movie\n",
    "            Candidates[rating_[0]] += (rating_[1]/5.0) * SimScore #assigning candidate movie the normalized score"
   ]
  },
  {
   "cell_type": "markdown",
   "metadata": {
    "colab_type": "text",
    "id": "1oEAX4q3QP_n"
   },
   "source": [
    "## Lets see the first 10 generated candidates in a data-frame"
   ]
  },
  {
   "cell_type": "code",
   "execution_count": 0,
   "metadata": {
    "colab": {},
    "colab_type": "code",
    "id": "HYj2MY3uQP_s",
    "outputId": "fd639108-9098-48ee-9bbb-161a5e564dd6"
   },
   "outputs": [
    {
     "data": {
      "text/html": [
       "<div>\n",
       "<style scoped>\n",
       "    .dataframe tbody tr th:only-of-type {\n",
       "        vertical-align: middle;\n",
       "    }\n",
       "\n",
       "    .dataframe tbody tr th {\n",
       "        vertical-align: top;\n",
       "    }\n",
       "\n",
       "    .dataframe thead th {\n",
       "        text-align: right;\n",
       "    }\n",
       "</style>\n",
       "<table border=\"1\" class=\"dataframe\">\n",
       "  <thead>\n",
       "    <tr style=\"text-align: right;\">\n",
       "      <th></th>\n",
       "      <th>Movie Id</th>\n",
       "      <th>Normalized Score</th>\n",
       "    </tr>\n",
       "  </thead>\n",
       "  <tbody>\n",
       "    <tr>\n",
       "      <th>0</th>\n",
       "      <td>319</td>\n",
       "      <td>1.4</td>\n",
       "    </tr>\n",
       "    <tr>\n",
       "      <th>1</th>\n",
       "      <td>22</td>\n",
       "      <td>0.8</td>\n",
       "    </tr>\n",
       "    <tr>\n",
       "      <th>2</th>\n",
       "      <td>320</td>\n",
       "      <td>1.6</td>\n",
       "    </tr>\n",
       "    <tr>\n",
       "      <th>3</th>\n",
       "      <td>141</td>\n",
       "      <td>0.8</td>\n",
       "    </tr>\n",
       "    <tr>\n",
       "      <th>4</th>\n",
       "      <td>29</td>\n",
       "      <td>1.4</td>\n",
       "    </tr>\n",
       "    <tr>\n",
       "      <th>5</th>\n",
       "      <td>321</td>\n",
       "      <td>0.7</td>\n",
       "    </tr>\n",
       "    <tr>\n",
       "      <th>6</th>\n",
       "      <td>322</td>\n",
       "      <td>0.9</td>\n",
       "    </tr>\n",
       "    <tr>\n",
       "      <th>7</th>\n",
       "      <td>323</td>\n",
       "      <td>0.7</td>\n",
       "    </tr>\n",
       "    <tr>\n",
       "      <th>8</th>\n",
       "      <td>57</td>\n",
       "      <td>1.7</td>\n",
       "    </tr>\n",
       "    <tr>\n",
       "      <th>9</th>\n",
       "      <td>59</td>\n",
       "      <td>1.5</td>\n",
       "    </tr>\n",
       "  </tbody>\n",
       "</table>\n",
       "</div>"
      ],
      "text/plain": [
       "   Movie Id  Normalized Score\n",
       "0       319               1.4\n",
       "1        22               0.8\n",
       "2       320               1.6\n",
       "3       141               0.8\n",
       "4        29               1.4\n",
       "5       321               0.7\n",
       "6       322               0.9\n",
       "7       323               0.7\n",
       "8        57               1.7\n",
       "9        59               1.5"
      ]
     },
     "execution_count": 30,
     "metadata": {
      "tags": []
     },
     "output_type": "execute_result"
    }
   ],
   "source": [
    "pd.DataFrame(list(Candidates.items()),columns=[\"Movie Id\",\"Normalized Score\"]).head(10)\n",
    "\n",
    "#for i in range(0,10):\n",
    "#    print(list(Candidates.items())[i])"
   ]
  },
  {
   "cell_type": "markdown",
   "metadata": {
    "colab_type": "text",
    "id": "mYzg5_QrQP_v"
   },
   "source": [
    "# As we have generated all candidates, lets move to step 3\n",
    "<img src = \"files/UBCF2.png\" >\n"
   ]
  },
  {
   "cell_type": "markdown",
   "metadata": {
    "colab_type": "text",
    "id": "VghXbswTQP_w"
   },
   "source": [
    "# 3- Candidate Ranking\n",
    "before ranking those candidates, we should remove all movies that a user has already watched"
   ]
  },
  {
   "cell_type": "code",
   "execution_count": 0,
   "metadata": {
    "colab": {},
    "colab_type": "code",
    "collapsed": true,
    "id": "xAerDjsCQP_w"
   },
   "outputs": [],
   "source": [
    "# Movies user has already rated\n",
    "watched = {} #watched has all movies already watched by that user\n",
    "for itemID, rating in TrainSetKNN.ur[UserInnerID]: # we take all movies which are already rated by that user \n",
    "    watched[itemID] = 1 # we set its id to 1\n",
    "\n",
    "#Sorting movies\n",
    "Sorted_SimMovie = sorted(Candidates.items(), key=itemgetter(1), reverse=True)"
   ]
  },
  {
   "cell_type": "markdown",
   "metadata": {
    "colab_type": "text",
    "id": "9au6bQmJQP_z"
   },
   "source": [
    "# Now we have ranked candidates list, Lets move to step 4\n",
    "<img src = \"files/UBCF3.png\" >\n",
    "\n",
    "# 4- Recommending Items to user\n",
    "\n",
    "* N is the no of items"
   ]
  },
  {
   "cell_type": "code",
   "execution_count": 0,
   "metadata": {
    "colab": {},
    "colab_type": "code",
    "id": "E_eyx2HIQP_0",
    "outputId": "0a5ac0d2-6f9f-4ad3-9d0e-8bbce515b4fa"
   },
   "outputs": [
    {
     "name": "stdout",
     "output_type": "stream",
     "text": [
      "Recommended Itms for User 1\n",
      "\n",
      "Matrix, The (1999)\n",
      "Toy Story (1995)\n",
      "Shawshank Redemption, The (1994)\n",
      "Independence Day (a.k.a. ID4) (1996)\n",
      "Fargo (1996)\n",
      "Sixth Sense, The (1999)\n",
      "As Good as It Gets (1997)\n",
      "Pretty Woman (1990)\n",
      "Truman Show, The (1998)\n",
      "Much Ado About Nothing (1993)\n"
     ]
    }
   ],
   "source": [
    "print(\"Recommended Itms for User \"+str(User)+\"\\n\")\n",
    "\n",
    "# Get top-rated items from similar users:\n",
    "N = 10 #No of recommended items\n",
    "\n",
    "pos = 0 #if an item is recommended, we increment it\n",
    "for item, rating in Sorted_SimMovie: #for every movie in sorted candidates list\n",
    "    if not item in watched: #making sure user has not already watched it\n",
    "        movieID = TrainSetKNN.to_raw_iid(item) #getting the movie id\n",
    "#        print(movieID)\n",
    "        print(getMovieName(int(movieID))) #printing movie names\n",
    "        pos += 1 \n",
    "        if (pos > N-1): #checking if we have recommended top n recommendations, if yes, we break the loop\n",
    "            break"
   ]
  },
  {
   "cell_type": "markdown",
   "metadata": {
    "colab_type": "text",
    "id": "N6NC8ooSQP_5"
   },
   "source": [
    "<font color = \"blue\"><h1><center>Congratulations! You have successfully build your first User Based Collaborative Recommender System </center></h1></font>\n",
    "<img src = \"files/UBCF4.png\" >\n"
   ]
  },
  {
   "cell_type": "markdown",
   "metadata": {
    "colab_type": "text",
    "collapsed": true,
    "id": "tuVS4iuLQP_6"
   },
   "source": [
    "# 2- Item Based Collaborative Filtering, what are the steps?\n",
    "\n",
    "1. <h3>Select top liked items (Top rated movies) of a user you want to recommend</h3>\n",
    "2. <h3>Find similar movies for the liked movies (Candidates)</h3>\n",
    "3. <h3>Rank Candidates (Movies)</h3>\n",
    "4. <h3>Recommend Movies</h3>\n",
    "<img src = \"files/IBCF.png\" >"
   ]
  },
  {
   "cell_type": "markdown",
   "metadata": {
    "colab_type": "text",
    "id": "KsfUyyhtQP_6"
   },
   "source": [
    "<h1><font color = \"green\"> We have covered everything for Item Based CF, we just need a little trick and everything is ready</font><h1>"
   ]
  },
  {
   "cell_type": "markdown",
   "metadata": {
    "colab_type": "text",
    "id": "Bi8061noQP_7"
   },
   "source": [
    "<h2><font color = \"green\">Lets take transpose of our User-Item-Rating Matrix and find similarity between items (Movies)</font><h3>\n",
    "We can find similarity using\n",
    "* Cosine\n",
    "* Pearson\n",
    "* Centered Cosine\n",
    "<img src = \"files/Item-User-Rating.png\" >"
   ]
  },
  {
   "cell_type": "markdown",
   "metadata": {
    "colab_type": "text",
    "id": "bidw55dRQP_7"
   },
   "source": [
    "## Find Item to Item Similarity Matrix\n",
    "<img src = \"files/Item-Item.png\" >"
   ]
  },
  {
   "cell_type": "markdown",
   "metadata": {
    "colab_type": "text",
    "id": "-2Xf5w4QQP_8"
   },
   "source": [
    "# Computing Item to Item Similarity Matrix using Cosine Similarity\n",
    "To find out the Item-Item Similarity matrix, we can use KNNBasic model as used before, this model take user item rating matrix as input and generate both similarity matrices (User-User and Item-Item similarity matrix). To find out similarity between two items (movies), you can use following similarity methods\n",
    "\n",
    "* Cosine\n",
    "* Pearson\n"
   ]
  },
  {
   "cell_type": "markdown",
   "metadata": {
    "colab_type": "text",
    "id": "xPEzYoByQP_9"
   },
   "source": [
    "Before we start with the KNNBasic code to generate ** Similarity Matrices ** we should clearly understand its input which are\n",
    "* sim_option: it tells, which similarity method to use i.e. Cosine, Pearson etc. and the second option is whether you want to generate user-to-user similarity matrix or item-to-item similarity matrix, we should set user_based option to false so that it generate Item-Item similarity matrix\n",
    "* User - Item - Rating matrix"
   ]
  },
  {
   "cell_type": "code",
   "execution_count": 0,
   "metadata": {
    "colab": {},
    "colab_type": "code",
    "id": "T1ZODzCzQP_-",
    "outputId": "780e3e04-eebb-41b1-b7df-202e7f0aaf0e"
   },
   "outputs": [
    {
     "name": "stdout",
     "output_type": "stream",
     "text": [
      "Computing the cosine similarity matrix...\n",
      "Done computing similarity matrix.\n",
      "Computing the cosine similarity matrix...\n",
      "Done computing similarity matrix.\n"
     ]
    }
   ],
   "source": [
    "sim_options = {'name': 'cosine','user_based': False} # setting similarity options\n",
    "model_IICF = KNNBasic(sim_options=sim_options) # loading our model\n",
    "model_IICF.fit(TrainSetKNN) # training our model onto our training data\n",
    "simsMatrix_IICF = model_IICF.compute_similarities() #saving the similarity matrix"
   ]
  },
  {
   "cell_type": "markdown",
   "metadata": {
    "colab_type": "text",
    "id": "MDIvciJqQQAC"
   },
   "source": [
    "## Lets see what this similarity matrix contain?"
   ]
  },
  {
   "cell_type": "code",
   "execution_count": 0,
   "metadata": {
    "colab": {},
    "colab_type": "code",
    "id": "s1pH6BkbQQAE",
    "outputId": "41eddba9-b5a4-435e-b4b3-33751cc6bf07"
   },
   "outputs": [
    {
     "data": {
      "text/plain": [
       "array([[1.        , 0.94740842, 0.9619885 , ..., 0.        , 0.        ,\n",
       "        0.        ],\n",
       "       [0.94740842, 1.        , 0.92847669, ..., 1.        , 1.        ,\n",
       "        0.        ],\n",
       "       [0.9619885 , 0.92847669, 1.        , ..., 1.        , 1.        ,\n",
       "        0.        ],\n",
       "       ...,\n",
       "       [0.        , 1.        , 1.        , ..., 1.        , 1.        ,\n",
       "        0.        ],\n",
       "       [0.        , 1.        , 1.        , ..., 1.        , 1.        ,\n",
       "        0.        ],\n",
       "       [0.        , 0.        , 0.        , ..., 0.        , 0.        ,\n",
       "        1.        ]])"
      ]
     },
     "execution_count": 34,
     "metadata": {
      "tags": []
     },
     "output_type": "execute_result"
    }
   ],
   "source": [
    "simsMatrix_IICF"
   ]
  },
  {
   "cell_type": "markdown",
   "metadata": {
    "colab_type": "text",
    "id": "7FyVYtCLQQAL"
   },
   "source": [
    "## Did you get this similarity matrix?\n",
    "\n",
    "### You should, if not, lets recall that (Item-Item Similarity Matrix) visual diagram\n",
    "<img src = \"files/Item-Item.png\" >"
   ]
  },
  {
   "cell_type": "markdown",
   "metadata": {
    "colab_type": "text",
    "id": "h3lvkmdGQQAM"
   },
   "source": [
    "## Lets get back to our generated similarity matrix\n",
    "### So the first row of this matrix shows the similarity score of movie 1 with all other movies\n",
    "### As we said that we have 9125 movies in our dataset, so 9125 x 9125 similarity scores?\n",
    "Lets confirm this"
   ]
  },
  {
   "cell_type": "code",
   "execution_count": 0,
   "metadata": {
    "colab": {},
    "colab_type": "code",
    "id": "uUSEnl0lQQAN",
    "outputId": "752b5945-cc27-4e82-e805-eabd2cf2bffc"
   },
   "outputs": [
    {
     "name": "stdout",
     "output_type": "stream",
     "text": [
      "No of rows: 9066\n"
     ]
    }
   ],
   "source": [
    "print(\"No of rows: \"+str(len(simsMatrix_IICF)))"
   ]
  },
  {
   "cell_type": "code",
   "execution_count": 0,
   "metadata": {
    "colab": {},
    "colab_type": "code",
    "id": "jduSqqIPQQAP",
    "outputId": "b3649990-8eb7-4934-c58f-9f9b54f90d02"
   },
   "outputs": [
    {
     "name": "stdout",
     "output_type": "stream",
     "text": [
      "No of columns: 9066\n"
     ]
    }
   ],
   "source": [
    "print(\"No of columns: \"+str(len(simsMatrix_IICF[0])))"
   ]
  },
  {
   "cell_type": "markdown",
   "metadata": {
    "colab_type": "text",
    "id": "u9kWA3RkQQAS"
   },
   "source": [
    "# Why its size is 9066 X 9066 instead of 9125 X 9125\n",
    "# Because 9125-9066 = 59 movies had 0 ratings"
   ]
  },
  {
   "cell_type": "markdown",
   "metadata": {
    "colab_type": "text",
    "id": "Aw9OXt9hQQAS"
   },
   "source": [
    "#  1- Finding out top rated movies by a user\n",
    "## Lets take a user and find its top rated movies\n",
    "please note that\n",
    "* \"User\" saves the user id you want to recommend\n",
    "* \"k\" is the number of top rated movies of that user"
   ]
  },
  {
   "cell_type": "code",
   "execution_count": 0,
   "metadata": {
    "colab": {},
    "colab_type": "code",
    "collapsed": true,
    "id": "4MOitpSoQQAU"
   },
   "outputs": [],
   "source": [
    "User = '1' #User Id of test user\n",
    "k = 10 #No of Top rated movies of test user \n",
    "\n",
    "testUserInnerID = TrainSetKNN.to_inner_uid(User) #Inner Id of our test user in Dataset\n",
    "\n",
    "# Get the top K items (movies) this user rated rated\n",
    "testUserRatings = TrainSetKNN.ur[testUserInnerID] #finding out all the ratings of a that test user \n",
    "kNeighbors = heapq.nlargest(k, testUserRatings, key=lambda t: t[1]) #Sorting those ratings, and picking up top k (These are neighbours)"
   ]
  },
  {
   "cell_type": "markdown",
   "metadata": {
    "colab_type": "text",
    "id": "RdClWlfcQQAV"
   },
   "source": [
    "## Now we have top rated movies, lets movie to step 2\n",
    "\n",
    "<h2> 2- Find similar movies for the liked movies (Candidates)\n",
    "<h4> \n",
    "* For every top rated movie, we would take all similar movies (Which are candidates)\n",
    "* We then normalize the candidate scores as we did before\n",
    "\n",
    "<img src = \"files/Formula2.png\" >"
   ]
  },
  {
   "cell_type": "code",
   "execution_count": 0,
   "metadata": {
    "colab": {},
    "colab_type": "code",
    "collapsed": true,
    "id": "s6QiBIoaQQAW"
   },
   "outputs": [],
   "source": [
    "# Get similar items to stuff we liked (weighted by rating)\n",
    "candidates = defaultdict(float) #Dictionary that contain the candidates i.e. movie id with its normalized score\n",
    "for itemID, rating in kNeighbors: #ItemId is the Top Rated Movie's Id of test user, rating is the rating given to that movie\n",
    "    similarityRow = simsMatrix_IICF[itemID] #similarity of that movie with all other movies\n",
    "    for innerID, score in enumerate(similarityRow): #for all similar movies\n",
    "        candidates[innerID] += score * (rating / 5.0) #we are finding the normalized score"
   ]
  },
  {
   "cell_type": "markdown",
   "metadata": {
    "colab_type": "text",
    "id": "Bv0sFAWGQQAY"
   },
   "source": [
    "## Lets exclude all the movies, test user has already watched"
   ]
  },
  {
   "cell_type": "code",
   "execution_count": 0,
   "metadata": {
    "colab": {},
    "colab_type": "code",
    "collapsed": true,
    "id": "Kg_f0XA1QQAb"
   },
   "outputs": [],
   "source": [
    "# Build a dictionary of stuff the user has already seen\n",
    "watched = {} #Watched contain all the movies, user has already watched\n",
    "for itemID, rating in TrainSetKNN.ur[testUserInnerID]: #finding out all the movies user already have watched\n",
    "    watched[itemID] = 1 #setting the value of watched movie to 1"
   ]
  },
  {
   "cell_type": "markdown",
   "metadata": {
    "colab_type": "text",
    "id": "3qWB2IfbQQAe"
   },
   "source": [
    "# We have normalized the candidate scores\n",
    "<h3>\n",
    "Lets move to step 3\n",
    "<h1>\n",
    "3- Rank those candidates</h1>\n",
    "we are sorting those candidates based on their score"
   ]
  },
  {
   "cell_type": "code",
   "execution_count": 0,
   "metadata": {
    "colab": {},
    "colab_type": "code",
    "collapsed": true,
    "id": "Kccs8BLgQQAe"
   },
   "outputs": [],
   "source": [
    "ranked_candidates = sorted(candidates.items(), key=itemgetter(1), reverse=True)"
   ]
  },
  {
   "cell_type": "markdown",
   "metadata": {
    "colab_type": "text",
    "id": "iGJd7j0rQQAh"
   },
   "source": [
    "# Lets move to step 4\n",
    "<h1>\n",
    "4- Generate Candidates"
   ]
  },
  {
   "cell_type": "code",
   "execution_count": 0,
   "metadata": {
    "colab": {},
    "colab_type": "code",
    "id": "DB-f29y0QQAi",
    "outputId": "488a129e-24d6-41cf-ce4f-e77365a44e26"
   },
   "outputs": [
    {
     "name": "stdout",
     "output_type": "stream",
     "text": [
      "Recommended Itms for User 1\n",
      "\n",
      "Competition, The (1980)\n",
      "Melancholia (2011)\n",
      "After the Sunset (2004)\n",
      "Come See the Paradise (1990)\n",
      "Safe Passage (1994)\n",
      "Good Mother, The (1988)\n",
      "Unstrung Heroes (1995)\n",
      "Shaft (1971)\n",
      "Picnic (1955)\n",
      "Drag Me to Hell (2009)\n"
     ]
    }
   ],
   "source": [
    "# Get top-rated items from similar users:\n",
    "print(\"Recommended Itms for User \"+str(User)+\"\\n\")\n",
    "TopN = 10 #No of recommended items\n",
    "pos = 0 #if an item is recommended, we increment it\n",
    "for itemID, ratingSum in ranked_candidates: #for every movie in sorted candidates list\n",
    "    if not itemID in watched: #making sure user has not already watched it\n",
    "        movieID = TrainSetKNN.to_raw_iid(itemID) #getting the movie id\n",
    "#        print(ml.getMovieName(int(movieID)), ratingSum)\n",
    "        print(getMovieName(int(movieID))) #printing movie names\n",
    "        pos += 1\n",
    "        if (pos > TopN-1): #checking if we have recommended top n recommendations, if yes, we break the loop\n",
    "            break"
   ]
  },
  {
   "cell_type": "markdown",
   "metadata": {
    "colab_type": "text",
    "id": "r6MnzlVwQQAl"
   },
   "source": [
    "<font color = \"blue\"><h1><center>Congratulations! You have successfully build your first Item Based Collaborative Recommender System </center></h1></font>"
   ]
  },
  {
   "cell_type": "markdown",
   "metadata": {
    "colab_type": "text",
    "id": "HVDSipPnQQAl"
   },
   "source": [
    "<font color = \"Green\"><h1>Lets Now move towards Model Based Recommender System </h1></font>\n",
    "\n",
    "<h2>\n",
    "Model based approach</h2>\n",
    "<h4>In this approach, CF models are developed using machine learning algorithms to predict user’s rating of unrated items. lets explore some novel techniques of model based RS </h4>\n",
    "\n",
    "* <h3>Matrix Factorization (SVD)</h3>\n",
    "* <h3>Non Negative Matrix Factorization</h3>\n",
    "* <h3>Probabilistic Matrix Factorization</h3>\n",
    "* <h3>Multi Layer Neural Networks</h3>\n"
   ]
  },
  {
   "cell_type": "markdown",
   "metadata": {
    "colab_type": "text",
    "id": "rG1fTj0hQQAv"
   },
   "source": [
    "<font color = \"blue\"><h1>Today, we would only be focusing on one evaluation technique which is RMSE</h1></font>"
   ]
  },
  {
   "cell_type": "markdown",
   "metadata": {
    "colab_type": "text",
    "id": "68GYGRAIQQAy"
   },
   "source": [
    "Before we move forward we would finalize the following concepts\n",
    "What we do in recommender systems\n",
    "* We predict rating of unseen items for a user\n",
    "* We sort those items based on their ratings\n",
    "* We recommend the top rated unseen items"
   ]
  },
  {
   "cell_type": "markdown",
   "metadata": {
    "colab_type": "text",
    "id": "F7Eew2WBQQAz"
   },
   "source": [
    "# Lets divide our data into Training set and Test Set\n",
    "We would divide out user item rating matrix into two sets\n",
    "* Training Set (Contains every user's 80% rated movies)\n",
    "* Test Set (Contains every user's 20% rated movies)"
   ]
  },
  {
   "cell_type": "markdown",
   "metadata": {
    "colab_type": "text",
    "id": "LNkdihwWQQAz"
   },
   "source": [
    "# Train Test Functions\n",
    "To divide our data into training and test sets, we would use the surprise built-in method, train_test_split"
   ]
  },
  {
   "cell_type": "markdown",
   "metadata": {
    "colab_type": "text",
    "id": "sk_ADu0_QQA0"
   },
   "source": [
    "**Importing required library**"
   ]
  },
  {
   "cell_type": "code",
   "execution_count": 0,
   "metadata": {
    "colab": {},
    "colab_type": "code",
    "collapsed": true,
    "id": "Q170tnWsQQA0"
   },
   "outputs": [],
   "source": [
    "from surprise.model_selection import train_test_split\n",
    "#from surprise.model_selection import LeaveOneOut"
   ]
  },
  {
   "cell_type": "markdown",
   "metadata": {
    "colab_type": "text",
    "id": "tuToq3dEQQA2"
   },
   "source": [
    "**Dividing our original data (User-Item-Rating Matrix) into train-set and test-set**"
   ]
  },
  {
   "cell_type": "code",
   "execution_count": 0,
   "metadata": {
    "colab": {},
    "colab_type": "code",
    "collapsed": true,
    "id": "aB8CDYxfQQA3"
   },
   "outputs": [],
   "source": [
    "Train_Set, Test_Set = train_test_split(Data, test_size = .20 , random_state=1) #dividing our Data into train and test sets\n",
    "                                                                               #and saving them into Train_Set and Test_Set\n",
    "def getFullTrainSet(data):\n",
    "    return data.build_full_trainset() #function when called, return the full_train_set,\n",
    "                                      #input to this function is a User_Item_rating matric \n",
    "    \n",
    "def getTrainSet(): #function that return already build Training set\n",
    "    return Train_Set\n",
    "\n",
    "def getTestSet(): #function that return already build Test set\n",
    "    return Test_Set\n",
    "\n",
    "def getAntiTestSet(data): #function that returns Anti Test Set of given User-Item-Rating Matrix\n",
    "    return data.build_anti_testset()"
   ]
  },
  {
   "cell_type": "markdown",
   "metadata": {
    "colab_type": "text",
    "id": "yFQ9IbXIQQA5"
   },
   "source": [
    "# Lets move towards our first Model Based Algorithm"
   ]
  },
  {
   "cell_type": "markdown",
   "metadata": {
    "colab_type": "text",
    "id": "yjGPRrCdQQA6"
   },
   "source": [
    "# Matrix Factorization:\n",
    "\n",
    "* Attitudes or preferences of a user can be determined by a small number of hidden factors called Embeddings\n",
    "* Matrix decomposition can be reformulated as an optimization problem with loss functions and constraints\n",
    "* Now the constraints are chosen based on property of our model.\n",
    "\n",
    "<img src = \"files/SVD.png\" >\n",
    "\n",
    "<h4>Embeddings:</h4>\n",
    "Intuitively, we can understand embeddings as low dimensional hidden factors for items and users. For e.g. say we have 5 dimensional (i.e. D or n_factors = 5 in above figure) embeddings for both items and users (# 5 chosen randomly). Then for user-X & movie-A, we can say the those 5 numbers might represent 5 different characteristics about the movie, like \n",
    "\n",
    "* (i) how much movie-A is sci-fi intense \n",
    "* (ii) how recent is the movie \n",
    "* (iii) how much special effects are in movie A \n",
    "* (iv) how dialogue driven is the movie \n",
    "* (v) how CGI driven is the movie. Likewise, \n",
    "\n",
    "5 numbers in user embedding matrix might represent, \n",
    "\n",
    "* (i) how much does user-X like sci-fi movie \n",
    "* (ii) how much does user-X like recent movies …and so on. \n",
    "\n",
    "In above figure, a higher number from dot product of user-X and movie-A matrix means that movie-A is a good recommendation for user-X.\n",
    "\n",
    "(we are not saying these numbers actually represent such information. We don’t actually know what these factors mean. This is just to build an intuition)"
   ]
  },
  {
   "cell_type": "markdown",
   "metadata": {
    "colab_type": "text",
    "id": "HEVfskH0QQA7"
   },
   "source": [
    "# Matrix Factorization (SVD) using Surprise"
   ]
  },
  {
   "cell_type": "markdown",
   "metadata": {
    "colab_type": "text",
    "id": "-tcK0dfHQQA8"
   },
   "source": [
    "**Importing required libraries**"
   ]
  },
  {
   "cell_type": "code",
   "execution_count": 0,
   "metadata": {
    "colab": {},
    "colab_type": "code",
    "collapsed": true,
    "id": "ABmFlwoUQQA8"
   },
   "outputs": [],
   "source": [
    "from surprise import SVD\n",
    "from surprise import accuracy"
   ]
  },
  {
   "cell_type": "markdown",
   "metadata": {
    "colab_type": "text",
    "id": "v_oqOMhFQQA-"
   },
   "source": [
    "**Picking up SVD model and training it on our train-set**"
   ]
  },
  {
   "cell_type": "code",
   "execution_count": 0,
   "metadata": {
    "colab": {},
    "colab_type": "code",
    "id": "YBUNnAG_QQA_",
    "outputId": "8135e954-953e-4610-94fb-3e896f686dad"
   },
   "outputs": [
    {
     "data": {
      "text/plain": [
       "<surprise.prediction_algorithms.matrix_factorization.SVD at 0x1c2623a88d0>"
      ]
     },
     "execution_count": 45,
     "metadata": {
      "tags": []
     },
     "output_type": "execute_result"
    }
   ],
   "source": [
    "MF_SVD_Algo = SVD()\n",
    "MF_SVD_Algo.fit(Train_Set) #traning on our train_set"
   ]
  },
  {
   "cell_type": "markdown",
   "metadata": {
    "colab_type": "text",
    "id": "bdQKNHLTQQBB"
   },
   "source": [
    "** Saving predictions for test-set **"
   ]
  },
  {
   "cell_type": "code",
   "execution_count": 0,
   "metadata": {
    "colab": {},
    "colab_type": "code",
    "collapsed": true,
    "id": "rOpLjfNHQQBC"
   },
   "outputs": [],
   "source": [
    "MF_SVD_Predictions = MF_SVD_Algo.test(Test_Set)"
   ]
  },
  {
   "cell_type": "markdown",
   "metadata": {
    "colab_type": "text",
    "id": "Gnws31WdQQBK"
   },
   "source": [
    "** Prediction Example **"
   ]
  },
  {
   "cell_type": "code",
   "execution_count": 0,
   "metadata": {
    "colab": {},
    "colab_type": "code",
    "id": "-7iTEcZaQQBL",
    "outputId": "5373fe01-e123-4efe-ac13-9f764b80169d"
   },
   "outputs": [
    {
     "data": {
      "text/plain": [
       "Prediction(uid='268', iid='1220', r_ui=3.0, est=3.367285745114758, details={'was_impossible': False})"
      ]
     },
     "execution_count": 47,
     "metadata": {
      "tags": []
     },
     "output_type": "execute_result"
    }
   ],
   "source": [
    "MF_SVD_Predictions[0]"
   ]
  },
  {
   "cell_type": "markdown",
   "metadata": {
    "colab_type": "text",
    "id": "asL2m8oBQQBQ"
   },
   "source": [
    "**Lets see the results**"
   ]
  },
  {
   "cell_type": "code",
   "execution_count": 0,
   "metadata": {
    "colab": {},
    "colab_type": "code",
    "id": "TbCzFa-EQQBR",
    "outputId": "5e48391c-8016-4f47-dd75-8bfb7f017399",
    "scrolled": true
   },
   "outputs": [
    {
     "name": "stdout",
     "output_type": "stream",
     "text": [
      "SVD Results\n",
      "RMSE: 0.8998\n"
     ]
    }
   ],
   "source": [
    "print(\"SVD Results\")\n",
    "RMSESVD = accuracy.rmse(MF_SVD_Predictions,verbose=True)"
   ]
  },
  {
   "cell_type": "markdown",
   "metadata": {
    "colab_type": "text",
    "collapsed": true,
    "id": "fWMCHkaNQQBW"
   },
   "source": [
    "# Non Negative Matrix Factorization"
   ]
  },
  {
   "cell_type": "markdown",
   "metadata": {
    "colab_type": "text",
    "id": "XB7fAh5AQQBW"
   },
   "source": [
    "** The same goes for Non Negative Matrix Factorization**"
   ]
  },
  {
   "cell_type": "code",
   "execution_count": 0,
   "metadata": {
    "colab": {},
    "colab_type": "code",
    "id": "KvYRcsSFQQBX",
    "outputId": "7286b854-2a35-4738-d502-e95230fc0f8c"
   },
   "outputs": [
    {
     "name": "stdout",
     "output_type": "stream",
     "text": [
      "RMSE: 0.9429\n"
     ]
    }
   ],
   "source": [
    "from surprise import NMF\n",
    "model = NMF()\n",
    "model.fit(Train_Set)\n",
    "pred = model.test(Test_Set)\n",
    "RMSENMF = accuracy.rmse(pred,verbose=True)"
   ]
  },
  {
   "cell_type": "markdown",
   "metadata": {
    "colab_type": "text",
    "id": "nHsk7OEEQQBi"
   },
   "source": [
    "# SVD Tuning"
   ]
  },
  {
   "cell_type": "code",
   "execution_count": 0,
   "metadata": {
    "colab": {},
    "colab_type": "code",
    "id": "BaWpfkc_QQBj",
    "outputId": "ba7bfd9e-9477-45f2-844d-ab02da5e1027"
   },
   "outputs": [
    {
     "name": "stdout",
     "output_type": "stream",
     "text": [
      "Best RMSE score attained:  0.8979018989554733\n",
      "{'n_epochs': 20, 'lr_all': 0.005, 'n_factors': 50}\n"
     ]
    }
   ],
   "source": [
    "from surprise.model_selection import GridSearchCV\n",
    "param_grid = {'n_epochs': [20, 30], 'lr_all': [0.005, 0.010],'n_factors': [50, 100]}\n",
    "gs = GridSearchCV(SVD, param_grid, measures=['rmse', 'mae'], cv=3)\n",
    "gs.fit(Data)\n",
    "# best RMSE score\n",
    "print(\"Best RMSE score attained: \", gs.best_score['rmse'])\n",
    "# combination of parameters that gave the best RMSE score\n",
    "print(gs.best_params['rmse'])"
   ]
  },
  {
   "cell_type": "markdown",
   "metadata": {
    "colab_type": "text",
    "id": "1UOS9SjrQQBm"
   },
   "source": [
    "# User Based KNN"
   ]
  },
  {
   "cell_type": "code",
   "execution_count": 0,
   "metadata": {
    "colab": {},
    "colab_type": "code",
    "id": "wlzgXuSbQQBn",
    "outputId": "6ad34461-f6f3-4cfb-d047-2aea81cc31ff"
   },
   "outputs": [
    {
     "name": "stdout",
     "output_type": "stream",
     "text": [
      "Computing the msd similarity matrix...\n",
      "Done computing similarity matrix.\n",
      "RMSE: 0.9614\n"
     ]
    }
   ],
   "source": [
    "sim_options = {'name': 'msd','user_based': True}\n",
    "model = KNNBasic(sim_options=sim_options)\n",
    "model.fit(Train_Set)\n",
    "pred = model.test(Test_Set)\n",
    "UBKNNRMSE = accuracy.rmse(pred,verbose=True)"
   ]
  },
  {
   "cell_type": "markdown",
   "metadata": {
    "colab_type": "text",
    "id": "pYYFdVjvQQBu"
   },
   "source": [
    "# Content Based KNN"
   ]
  },
  {
   "cell_type": "code",
   "execution_count": 0,
   "metadata": {
    "colab": {},
    "colab_type": "code",
    "id": "T66pHipTQQBv",
    "outputId": "efd42d2b-6482-4149-f967-e88b9e97f91b"
   },
   "outputs": [
    {
     "name": "stdout",
     "output_type": "stream",
     "text": [
      "Computing the msd similarity matrix...\n",
      "Done computing similarity matrix.\n",
      "RMSE: 0.9434\n"
     ]
    }
   ],
   "source": [
    "sim_options = {'name': 'msd','user_based': False}\n",
    "model = KNNBasic(sim_options=sim_options)\n",
    "model.fit(Train_Set)\n",
    "pred = model.test(Test_Set)\n",
    "CBKNNRMSE = accuracy.rmse(pred,verbose=True)"
   ]
  },
  {
   "cell_type": "markdown",
   "metadata": {
    "colab_type": "text",
    "id": "snjkjatTQQBx"
   },
   "source": [
    "# Comparision of RMSE score for different RS techniques"
   ]
  },
  {
   "cell_type": "code",
   "execution_count": 0,
   "metadata": {
    "colab": {},
    "colab_type": "code",
    "id": "NDQWFbidQQBy",
    "outputId": "f7cad2dc-08f9-43d6-90a4-8cf27515cc99",
    "scrolled": true
   },
   "outputs": [
    {
     "data": {
      "image/png": "[encoded data removed]",
      "text/plain": [
       "<Figure size 432x288 with 1 Axes>"
      ]
     },
     "metadata": {
      "tags": []
     },
     "output_type": "display_data"
    }
   ],
   "source": [
    "import matplotlib.pyplot as plt\n",
    " \n",
    "# data to plot\n",
    "n_groups = 4\n",
    "\n",
    "Rmse = (UBKNNRMSE, CBKNNRMSE, RMSESVD, RMSENMF) \n",
    "\n",
    "# create plot\n",
    "fig, ax = plt.subplots()\n",
    "index = np.arange(n_groups)\n",
    "bar_width = 0.35\n",
    "opacity = 0.7\n",
    " \n",
    "rects1 = plt.bar(index, Rmse, bar_width,alpha=opacity,color='r',label='RMSE')\n",
    "\n",
    "plt.scatter(index, Rmse,color='k')\n",
    "plt.plot(index,Rmse,color='k')\n",
    "\n",
    "plt.xlabel('Algorithms')\n",
    "plt.ylabel('Scores')\n",
    "plt.xticks(index + bar_width/10, ('UB_KNN','IB_KNN','MF-SVD','NN-MF'))\n",
    "plt.legend()\n",
    "\n",
    "def autolabel(rects):\n",
    "    \"\"\"\n",
    "    Attach a text label above each bar displaying its height\n",
    "    \"\"\"\n",
    "    for rect in rects:\n",
    "        height = rect.get_height()\n",
    "        ax.text(rect.get_x() + rect.get_width()/2., 1.05*height,'%.4f' %(height),ha='center', va='bottom')\n",
    "\n",
    "autolabel(rects1)\n",
    "plt.savefig('Model_Results.png')\n",
    "plt.show()"
   ]
  },
  {
   "cell_type": "code",
   "execution_count": 0,
   "metadata": {
    "colab": {},
    "colab_type": "code",
    "collapsed": true,
    "id": "PXqo5KszQQB1"
   },
   "outputs": [],
   "source": []
  }
 ],
 "metadata": {
  "colab": {
   "name": "Collaborative and Novel Methods Demo - Addo AI.ipynb",
   "provenance": [],
   "version": "0.3.2"
  },
  "kernelspec": {
   "display_name": "Python 3",
   "language": "python",
   "name": "python3"
  },
  "language_info": {
   "codemirror_mode": {
    "name": "ipython",
    "version": 3
   },
   "file_extension": ".py",
   "mimetype": "text/x-python",
   "name": "python",
   "nbconvert_exporter": "python",
   "pygments_lexer": "ipython3",
   "version": "3.7.3"
  }
 },
 "nbformat": 4,
 "nbformat_minor": 1
}
